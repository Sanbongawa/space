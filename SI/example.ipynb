{
 "cells": [
  {
   "cell_type": "code",
   "execution_count": 1,
   "metadata": {
    "collapsed": false
   },
   "outputs": [],
   "source": [
    "import SwarmIntelligence as SI\n",
    "import numpy as np"
   ]
  },
  {
   "cell_type": "markdown",
   "metadata": {},
   "source": [
    "# Test sphere_function"
   ]
  },
  {
   "cell_type": "code",
   "execution_count": 3,
   "metadata": {
    "collapsed": true
   },
   "outputs": [],
   "source": [
    "def sphere_func(pos):\n",
    "    return np.sum(np.square(pos))"
   ]
  },
  {
   "cell_type": "markdown",
   "metadata": {},
   "source": [
    "## minimize"
   ]
  },
  {
   "cell_type": "code",
   "execution_count": 39,
   "metadata": {
    "collapsed": true
   },
   "outputs": [],
   "source": [
    "dim=10\n",
    "lb=np.ones(dim)*-50\n",
    "ub=np.ones(dim)*50"
   ]
  },
  {
   "cell_type": "code",
   "execution_count": 40,
   "metadata": {
    "collapsed": false
   },
   "outputs": [
    {
     "name": "stdout",
     "output_type": "stream",
     "text": [
      "0.00000000:  \n",
      " 7.1575081e-06, 2.3604413e-06, -4.7109919e-07, 2.6159951e-06, -2.9038856e-06, 5.5398799e-06, -3.0606035e-06, 1.3955148e-06, -9.4756054e-07, 2.1954466e-06\n"
     ]
    }
   ],
   "source": [
    "best_val,best_pos=SI.PSO(sphere_func,lb,ub,n=20,m_i=5000,dim=dim,minf=1)\n",
    "print(\"{0:.8f}:  \\n\".format(best_val),\", \".join([\"{0:.8}\".format(p) for p in best_pos]))"
   ]
  },
  {
   "cell_type": "code",
   "execution_count": 42,
   "metadata": {
    "collapsed": false
   },
   "outputs": [
    {
     "name": "stdout",
     "output_type": "stream",
     "text": [
      "0.00278164:  \n",
      " 0.0053682213, -0.010501351, -0.015962821, 0.0099816897, -0.007819091, 0.0019769806, -0.034864615, -0.029643617, 0.010127476, -0.0051182899\n"
     ]
    }
   ],
   "source": [
    "best_val,best_pos=SI.BA(sphere_func,lb,ub,n=20,m_i=5000,dim=dim,minf=1)\n",
    "print(\"{0:.8f}:  \\n\".format(best_val),\", \".join([\"{0:.8}\".format(p) for p in best_pos]))"
   ]
  },
  {
   "cell_type": "markdown",
   "metadata": {},
   "source": [
    "## maximize"
   ]
  },
  {
   "cell_type": "code",
   "execution_count": 43,
   "metadata": {
    "collapsed": true
   },
   "outputs": [],
   "source": [
    "dim=20\n",
    "lb=np.ones(dim)*-100\n",
    "ub=np.ones(dim)*100"
   ]
  },
  {
   "cell_type": "code",
   "execution_count": 44,
   "metadata": {
    "collapsed": false
   },
   "outputs": [
    {
     "name": "stdout",
     "output_type": "stream",
     "text": [
      "200000.0000000000:  \n",
      " 100.0, 100.0, 100.0, 100.0, -100.0, -100.0, -100.0, 100.0, -100.0, 100.0, -100.0, -100.0, 100.0, -100.0, -100.0, -100.0, 100.0, 100.0, -100.0, -100.0\n"
     ]
    }
   ],
   "source": [
    "best_val,best_pos=SI.PSO(sphere_func,lb,ub,n=20,m_i=5000,dim=dim,minf=0)\n",
    "print(\"{0:.10f}:  \\n\".format(best_val),\", \".join([\"{0:.8}\".format(p) for p in best_pos]))"
   ]
  },
  {
   "cell_type": "code",
   "execution_count": 45,
   "metadata": {
    "collapsed": false
   },
   "outputs": [
    {
     "name": "stdout",
     "output_type": "stream",
     "text": [
      "200000.0000000000:  \n",
      " -100.0, -100.0, -100.0, 100.0, -100.0, -100.0, -100.0, -100.0, 100.0, -100.0, 100.0, 100.0, 100.0, 100.0, 100.0, -100.0, 100.0, -100.0, 100.0, -100.0\n"
     ]
    }
   ],
   "source": [
    "best_val,best_pos=SI.BA(sphere_func,lb,ub,n=20,m_i=5000,dim=dim,minf=0)\n",
    "print(\"{0:.10f}:  \\n\".format(best_val),\", \".join([\"{0:.8}\".format(p) for p in best_pos]))"
   ]
  },
  {
   "cell_type": "markdown",
   "metadata": {},
   "source": [
    "# Test banana_function"
   ]
  },
  {
   "cell_type": "code",
   "execution_count": 46,
   "metadata": {
    "collapsed": false
   },
   "outputs": [],
   "source": [
    "def banana_func(pos):\n",
    "    s=0\n",
    "    for i in range(dim-1):\n",
    "        a=(100*(pos[i+1]-pos[i]**2)**2)\n",
    "        b=(pos[i]-1)**2\n",
    "        s+=a+b\n",
    "    return s"
   ]
  },
  {
   "cell_type": "code",
   "execution_count": 59,
   "metadata": {
    "collapsed": true
   },
   "outputs": [],
   "source": [
    "dim=4\n",
    "lb=np.ones(dim)*-5\n",
    "ub=np.ones(dim)*5"
   ]
  },
  {
   "cell_type": "code",
   "execution_count": 64,
   "metadata": {
    "collapsed": false
   },
   "outputs": [
    {
     "name": "stdout",
     "output_type": "stream",
     "text": [
      "0.0063628971:  \n",
      " 0.98231324, 0.96478137, 0.93068889, 0.86604416\n"
     ]
    }
   ],
   "source": [
    "best_val,best_pos=SI.PSO(banana_func,lb,ub,n=20,m_i=10000,dim=dim,minf=1)\n",
    "print(\"{0:.10f}:  \\n\".format(best_val),\", \".join([\"{0:.8}\".format(p) for p in best_pos]))"
   ]
  },
  {
   "cell_type": "code",
   "execution_count": 63,
   "metadata": {
    "collapsed": false
   },
   "outputs": [
    {
     "name": "stdout",
     "output_type": "stream",
     "text": [
      "0.0016885910:  \n",
      " 1.0061221, 1.0141362, 1.0299249, 1.0608351\n"
     ]
    }
   ],
   "source": [
    "best_val,best_pos=SI.BA(banana_func,lb,ub,n=20,m_i=10000,dim=dim,minf=1)\n",
    "print(\"{0:.10f}:  \\n\".format(best_val),\", \".join([\"{0:.8}\".format(p) for p in best_pos]))"
   ]
  },
  {
   "cell_type": "code",
   "execution_count": null,
   "metadata": {
    "collapsed": true
   },
   "outputs": [],
   "source": []
  }
 ],
 "metadata": {
  "kernelspec": {
   "display_name": "Python 3",
   "language": "python",
   "name": "python3"
  },
  "language_info": {
   "codemirror_mode": {
    "name": "ipython",
    "version": 3
   },
   "file_extension": ".py",
   "mimetype": "text/x-python",
   "name": "python",
   "nbconvert_exporter": "python",
   "pygments_lexer": "ipython3",
   "version": "3.4.4"
  }
 },
 "nbformat": 4,
 "nbformat_minor": 0
}
