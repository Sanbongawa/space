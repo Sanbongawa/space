{
 "cells": [
  {
   "cell_type": "code",
   "execution_count": 1,
   "metadata": {
    "collapsed": false
   },
   "outputs": [],
   "source": [
    "import longest_connect_courpus as lcc\n",
    "import MeCab"
   ]
  },
  {
   "cell_type": "code",
   "execution_count": 2,
   "metadata": {
    "collapsed": false
   },
   "outputs": [],
   "source": [
    "tageer=MeCab.Tagger(\"mecab -d /usr/local/lib/mecab/dic/mecab-ipadic-neologd\")"
   ]
  },
  {
   "cell_type": "code",
   "execution_count": 3,
   "metadata": {
    "collapsed": true
   },
   "outputs": [],
   "source": [
    "with open('budori.txt') as f:\n",
    "    text1=f.read().splitlines()"
   ]
  },
  {
   "cell_type": "code",
   "execution_count": 3,
   "metadata": {
    "collapsed": false
   },
   "outputs": [],
   "source": [
    "with open('test_word.txt') as f:\n",
    "    text2=f.read().splitlines()"
   ]
  },
  {
   "cell_type": "code",
   "execution_count": 5,
   "metadata": {
    "collapsed": false,
    "scrolled": true
   },
   "outputs": [
    {
     "data": {
      "text/plain": [
       "['グスコーブドリの伝記',\n",
       " '宮沢賢治',\n",
       " '',\n",
       " '一森',\n",
       " '',\n",
       " 'グスコーブドリは、イーハトーヴの大きな森のなかに生まれました。おとうさんは、グスコーナドリという名高い木こりで、どんな大きな木でも、まるで赤ん坊を寝かしつけるようにわけなく切ってしまう人でした。',\n",
       " 'ブドリにはネリという妹があって、二人は毎日森で遊びました。ごしっごしっとおとうさんの木を挽く音が、やっと聞こえるくらいな遠くへも行きました。二人はそこで木いちごの実をとってわき水につけたり、空を向いてかわるがわる山鳩の鳴くまねをしたりしました。するとあちらでもこちらでも、ぽう、ぽう、と鳥が眠そうに鳴き出すのでした。',\n",
       " 'おかあさんが、家の前の小さな畑に麦を播いているときは、二人はみちにむしろをしいてすわって、ブリキかんで蘭の花を煮たりしました。するとこんどは、もういろいろの鳥が、二人のぱさぱさした頭の上を、まるで挨拶するように鳴きながらざあざあざあざあ通りすぎるのでした。',\n",
       " 'ブドリが学校へ行くようになりますと、森はひるの間たいへんさびしくなりました。そのかわりひるすぎには、ブドリはネリといっしょに、森じゅうの木の幹に、赤い粘土や消し炭で、木の名を書いてあるいたり、高く歌ったりしました。',\n",
       " 'ホップのつるが、両方からのびて、門のようになっている白樺の木には、']"
      ]
     },
     "execution_count": 5,
     "metadata": {},
     "output_type": "execute_result"
    }
   ],
   "source": [
    "text1[:10]"
   ]
  },
  {
   "cell_type": "code",
   "execution_count": 4,
   "metadata": {
    "collapsed": false,
    "scrolled": false
   },
   "outputs": [
    {
     "data": {
      "text/plain": [
       "['設計開発に至る前段階の構想として、1942年（昭和17年）9月、陸軍兵器行政本部研究方針の中で長砲身57mm戦車砲搭載の新中戦車（乙）の存在がある。これは固定式戦闘室の駆逐戦車であったが、方針の変更により長砲身75mm戦車砲搭載の35t級中戦車に要求が引き上げられた。',\n",
       " 'チリ（チリ車）の具体的な開発は1943年（昭和18年）7月の「兵器行政本部研究方針」の変更により始まる。この変更は独ソ戦におけるドイツ軍とソ連軍の間に発生した戦車戦の状況、両軍の投入した戦車の性能等を分析検討した結果であった。これにより陸軍の戦車開発は、従来の歩兵直協の重視と戦車戦へのある程度の対応から、明確に戦車戦を重視した戦車の開発へと転換された。また各種要目数値に大きな変更が加えられた。中戦車に要求される全備重量は従来の20t級から35t級へと上がり、搭載する主砲口径が57mmから75mmへ、最大装甲厚が50mmから75mmへと増強された。',\n",
       " '1943年6月30日の軍需審議会幹事会での発言内容においては、転換の理由を、新規に開発されたドイツ・ソ連戦車の装甲と火力の目覚ましい強化にあると述べている。従来の陸軍の戦車開発は大量生産に適した観点から研究方針が決められていたが、情勢への対応として、質を絶対視した研究方針へと改正した。戦車砲の最大限度は技術力の限度を考慮して75mmと決定され、火力は従来の研究により射距離1,000mで80mmを射貫可能と報告された。装甲の限度は敏捷性を考慮した上で最大限を要求し、75mm厚が限度であるとされた。行動半径はまずガソリンエンジンの搭載を前提とし、20kmで8時間行動可能であれば可であると構想された。',\n",
       " 'なお、同日の軍需審議会では新鋭重戦車対策として、大口径105mm戦車砲（試製十糎戦車砲（長））搭載の試製新砲戦車（甲） ホリ（ホリ車）および、105mm対戦車砲（試製十糎対戦車砲）搭載の試製十糎対戦車自走砲 カト（カト車）（対戦車自走砲）の開発も計画されている。チリ車はホリ車・カト車とともに対新鋭戦車の火力戦の中核となるべき存在であった。',\n",
       " '設計・製作は第4陸軍技術研究所ほか三菱重工業東京機器製作所が担当した。1943年8月19日、三菱東京機器製作所において会議が行われ、チリ車開発に関し細部の討論が行われた。内容はV型12気筒ガソリンエンジンの採用、エンジンの艤装、整備方法、変速機、操向装置、緩衝機構の型式等である。35tの大重量を動かすため、変速・操向装置に関して意見が集中した。8月28日には4技研で車体構成、半自動装填装置、エンジンの整備方法、変速操向機の確実性、懸架装置と履帯について討論が行われた。9月23日、三菱東京機器製作所でモックアップの模型を用いて討論が行われた。ここでは第一案と第二案が提示された。第一案は約1年で実現できる現実的な内容であった。']"
      ]
     },
     "execution_count": 4,
     "metadata": {},
     "output_type": "execute_result"
    }
   ],
   "source": [
    "text2[:5]"
   ]
  },
  {
   "cell_type": "markdown",
   "metadata": {},
   "source": [
    "# text1"
   ]
  },
  {
   "cell_type": "code",
   "execution_count": 34,
   "metadata": {
    "collapsed": false
   },
   "outputs": [],
   "source": [
    "word_list=[lcc.create_word_list([t],tageer) for t in text1 if t!=\"\"]"
   ]
  },
  {
   "cell_type": "markdown",
   "metadata": {},
   "source": [
    "## 通常分割"
   ]
  },
  {
   "cell_type": "code",
   "execution_count": 35,
   "metadata": {
    "collapsed": false
   },
   "outputs": [
    {
     "data": {
      "text/plain": [
       "278"
      ]
     },
     "execution_count": 35,
     "metadata": {},
     "output_type": "execute_result"
    }
   ],
   "source": [
    "len(word_list)"
   ]
  },
  {
   "cell_type": "code",
   "execution_count": 42,
   "metadata": {
    "collapsed": false
   },
   "outputs": [
    {
     "data": {
      "text/plain": [
       "[[['「', '記号'],\n",
       "  ['今日', '名詞'],\n",
       "  ['は', '助詞'],\n",
       "  ['。', '記号'],\n",
       "  ['」', '記号'],\n",
       "  ['ブドリ', '名詞'],\n",
       "  ['は', '助詞'],\n",
       "  ['高く', '形容詞'],\n",
       "  ['叫び', '動詞'],\n",
       "  ['まし', '助動詞'],\n",
       "  ['た', '助動詞'],\n",
       "  ['。', '記号'],\n",
       "  ['だれ', '名詞'],\n",
       "  ['も', '助詞'],\n",
       "  ['出', '動詞'],\n",
       "  ['て', '助詞'],\n",
       "  ['き', '動詞'],\n",
       "  ['ませ', '助動詞'],\n",
       "  ['ん', '助動詞'],\n",
       "  ['でし', '助動詞'],\n",
       "  ['た', '助動詞'],\n",
       "  ['。', '記号']],\n",
       " [['「', '記号'],\n",
       "  ['今日', '名詞'],\n",
       "  ['はあ', '感動詞'],\n",
       "  ['。', '記号'],\n",
       "  ['」', '記号'],\n",
       "  ['ブドリ', '名詞'],\n",
       "  ['は', '助詞'],\n",
       "  ['あら', '動詞'],\n",
       "  ['ん', '助動詞'],\n",
       "  ['限り', '名詞'],\n",
       "  ['高く', '形容詞'],\n",
       "  ['叫び', '動詞'],\n",
       "  ['まし', '助動詞'],\n",
       "  ['た', '助動詞'],\n",
       "  ['。', '記号'],\n",
       "  ['すると', '接続詞'],\n",
       "  ['すぐ', '副詞'],\n",
       "  ['頭', '名詞'],\n",
       "  ['の', '助詞'],\n",
       "  ['上の', '名詞'],\n",
       "  ['二階', '名詞'],\n",
       "  ['の', '助詞'],\n",
       "  ['窓', '名詞'],\n",
       "  ['から', '助詞'],\n",
       "  ['、', '記号'],\n",
       "  ['大きな', '連体詞'],\n",
       "  ['灰いろ', '名詞'],\n",
       "  ['の', '助詞'],\n",
       "  ['顔', '名詞'],\n",
       "  ['が', '助詞'],\n",
       "  ['出て', '名詞'],\n",
       "  ['、', '記号'],\n",
       "  ['めがね', '名詞'],\n",
       "  ['が', '助詞'],\n",
       "  ['二つ', '名詞'],\n",
       "  ['ぎらり', '副詞'],\n",
       "  ['と', '助詞'],\n",
       "  ['光り', '動詞'],\n",
       "  ['まし', '助動詞'],\n",
       "  ['た', '助動詞'],\n",
       "  ['。', '記号'],\n",
       "  ['それから', '接続詞'],\n",
       "  ['、', '記号']]]"
      ]
     },
     "execution_count": 42,
     "metadata": {},
     "output_type": "execute_result"
    }
   ],
   "source": [
    "word_list[140:142]"
   ]
  },
  {
   "cell_type": "markdown",
   "metadata": {},
   "source": [
    "# 最長品詞接続"
   ]
  },
  {
   "cell_type": "code",
   "execution_count": 43,
   "metadata": {
    "collapsed": false
   },
   "outputs": [],
   "source": [
    "res=[lcc.connect(t) for t in word_list]"
   ]
  },
  {
   "cell_type": "code",
   "execution_count": 44,
   "metadata": {
    "collapsed": false
   },
   "outputs": [
    {
     "data": {
      "text/plain": [
       "278"
      ]
     },
     "execution_count": 44,
     "metadata": {},
     "output_type": "execute_result"
    }
   ],
   "source": [
    "len(res)"
   ]
  },
  {
   "cell_type": "code",
   "execution_count": 45,
   "metadata": {
    "collapsed": false,
    "scrolled": false
   },
   "outputs": [
    {
     "data": {
      "text/plain": [
       "[[['「', '記号'],\n",
       "  ['今日', '名詞'],\n",
       "  ['は', '助詞'],\n",
       "  ['。', '記号'],\n",
       "  ['」', '記号'],\n",
       "  ['ブドリ', '名詞'],\n",
       "  ['は', '助詞'],\n",
       "  ['高く', '形容詞'],\n",
       "  ['叫び', '動詞'],\n",
       "  ['ました', '助動詞'],\n",
       "  ['。', '記号'],\n",
       "  ['だれ', '名詞'],\n",
       "  ['も', '助詞'],\n",
       "  ['出', '動詞'],\n",
       "  ['て', '助詞'],\n",
       "  ['き', '動詞'],\n",
       "  ['ませんでした', '助動詞'],\n",
       "  ['。', '記号']],\n",
       " [['「', '記号'],\n",
       "  ['今日', '名詞'],\n",
       "  ['はあ', '感動詞'],\n",
       "  ['。', '記号'],\n",
       "  ['」', '記号'],\n",
       "  ['ブドリ', '名詞'],\n",
       "  ['は', '助詞'],\n",
       "  ['あら', '動詞'],\n",
       "  ['ん', '助動詞'],\n",
       "  ['限り', '名詞'],\n",
       "  ['高く', '形容詞'],\n",
       "  ['叫び', '動詞'],\n",
       "  ['ました', '助動詞'],\n",
       "  ['。', '記号'],\n",
       "  ['すると', '接続詞'],\n",
       "  ['すぐ', '副詞'],\n",
       "  ['頭', '名詞'],\n",
       "  ['の', '助詞'],\n",
       "  ['上の二階', '名詞'],\n",
       "  ['の', '助詞'],\n",
       "  ['窓', '名詞'],\n",
       "  ['から', '助詞'],\n",
       "  ['、', '記号'],\n",
       "  ['大きな', '連体詞'],\n",
       "  ['灰いろ', '名詞'],\n",
       "  ['の', '助詞'],\n",
       "  ['顔', '名詞'],\n",
       "  ['が', '助詞'],\n",
       "  ['出て', '名詞'],\n",
       "  ['、', '記号'],\n",
       "  ['めがね', '名詞'],\n",
       "  ['が', '助詞'],\n",
       "  ['二つ', '名詞'],\n",
       "  ['ぎらり', '副詞'],\n",
       "  ['と', '助詞'],\n",
       "  ['光り', '動詞'],\n",
       "  ['ました', '助動詞'],\n",
       "  ['。', '記号'],\n",
       "  ['それから', '接続詞'],\n",
       "  ['、', '記号']]]"
      ]
     },
     "execution_count": 45,
     "metadata": {},
     "output_type": "execute_result"
    }
   ],
   "source": [
    "res[140:142]"
   ]
  },
  {
   "cell_type": "code",
   "execution_count": null,
   "metadata": {
    "collapsed": true
   },
   "outputs": [],
   "source": []
  },
  {
   "cell_type": "code",
   "execution_count": 15,
   "metadata": {
    "collapsed": false
   },
   "outputs": [
    {
     "data": {
      "text/plain": [
       "[['お', '接頭詞'],\n",
       " ['かみさん', '名詞'],\n",
       " ['は', '助詞'],\n",
       " ['おろおろ', '副詞'],\n",
       " ['泣き', '動詞'],\n",
       " ['はじめ', '動詞'],\n",
       " ['まし', '助動詞'],\n",
       " ['た', '助動詞'],\n",
       " ['。', '記号'],\n",
       " ['すると', '接続詞'],\n",
       " ['主人', '名詞'],\n",
       " ['が', '助詞'],\n",
       " ['にわかに', '副詞'],\n",
       " ['元気', '名詞'],\n",
       " ['に', '助詞'],\n",
       " ['なっ', '動詞'],\n",
       " ['て', '助詞'],\n",
       " ['むっくり', '副詞'],\n",
       " ['起き上がり', '動詞'],\n",
       " ['まし', '助動詞'],\n",
       " ['た', '助動詞'],\n",
       " ['。', '記号']]"
      ]
     },
     "execution_count": 15,
     "metadata": {},
     "output_type": "execute_result"
    }
   ],
   "source": [
    "word_list[100]"
   ]
  },
  {
   "cell_type": "code",
   "execution_count": 17,
   "metadata": {
    "collapsed": false
   },
   "outputs": [
    {
     "data": {
      "text/plain": [
       "[['おかみさん', '名詞'],\n",
       " ['は', '助詞'],\n",
       " ['おろおろ', '副詞'],\n",
       " ['泣きはじめ', '動詞'],\n",
       " ['ました', '助動詞'],\n",
       " ['。', '記号'],\n",
       " ['すると', '接続詞'],\n",
       " ['主人', '名詞'],\n",
       " ['が', '助詞'],\n",
       " ['にわかに', '副詞'],\n",
       " ['元気', '名詞'],\n",
       " ['に', '助詞'],\n",
       " ['なっ', '動詞'],\n",
       " ['て', '助詞'],\n",
       " ['むっくり', '副詞'],\n",
       " ['起き上がり', '動詞'],\n",
       " ['ました', '助動詞'],\n",
       " ['。', '記号']]"
      ]
     },
     "execution_count": 17,
     "metadata": {},
     "output_type": "execute_result"
    }
   ],
   "source": [
    "res[100]"
   ]
  },
  {
   "cell_type": "code",
   "execution_count": 48,
   "metadata": {
    "collapsed": false
   },
   "outputs": [
    {
     "data": {
      "text/plain": [
       "'お・かみさん・は・おろおろ・泣き・はじめ・まし・た・。・すると・主人・が・にわかに・元気・に・なっ・て・むっくり・起き上がり・まし・た・。'"
      ]
     },
     "execution_count": 48,
     "metadata": {},
     "output_type": "execute_result"
    }
   ],
   "source": [
    "\"・\".join([i for i,j in word_list[100]])"
   ]
  },
  {
   "cell_type": "code",
   "execution_count": 49,
   "metadata": {
    "collapsed": false
   },
   "outputs": [
    {
     "data": {
      "text/plain": [
       "'おかみさん・は・おろおろ・泣きはじめ・ました・。・すると・主人・が・にわかに・元気・に・なっ・て・むっくり・起き上がり・ました・。'"
      ]
     },
     "execution_count": 49,
     "metadata": {},
     "output_type": "execute_result"
    }
   ],
   "source": [
    "\"・\".join([i for i,j in res[100]])"
   ]
  },
  {
   "cell_type": "code",
   "execution_count": null,
   "metadata": {
    "collapsed": true
   },
   "outputs": [],
   "source": []
  },
  {
   "cell_type": "markdown",
   "metadata": {},
   "source": [
    "# text2"
   ]
  },
  {
   "cell_type": "code",
   "execution_count": 5,
   "metadata": {
    "collapsed": false,
    "scrolled": true
   },
   "outputs": [
    {
     "name": "stderr",
     "output_type": "stream",
     "text": [
      "100%|██████████| 77/77 [00:01<00:00, 54.23it/s]\n"
     ]
    }
   ],
   "source": [
    "word_list=lcc.create_word_list(text2,tageer,prog=True)"
   ]
  },
  {
   "cell_type": "markdown",
   "metadata": {},
   "source": [
    "## 通常分割"
   ]
  },
  {
   "cell_type": "code",
   "execution_count": 6,
   "metadata": {
    "collapsed": false
   },
   "outputs": [
    {
     "data": {
      "text/plain": [
       "[['が', '助詞'],\n",
       " ['、', '記号'],\n",
       " ['方針', '名詞'],\n",
       " ['の', '助詞'],\n",
       " ['変更', '名詞'],\n",
       " ['により', '助詞'],\n",
       " ['長', '接頭詞'],\n",
       " ['砲身', '名詞'],\n",
       " ['75mm', '名詞'],\n",
       " ['戦車砲', '名詞'],\n",
       " ['搭載', '名詞'],\n",
       " ['の', '助詞'],\n",
       " ['35', '名詞'],\n",
       " ['t級', '名詞'],\n",
       " ['中戦車', '名詞'],\n",
       " ['に', '助詞'],\n",
       " ['要求', '名詞'],\n",
       " ['が', '助詞'],\n",
       " ['引き上げ', '動詞'],\n",
       " ['られ', '動詞'],\n",
       " ['た', '助動詞'],\n",
       " ['。', '記号'],\n",
       " ['チリ', '名詞'],\n",
       " ['（', '記号'],\n",
       " ['チリ', '名詞'],\n",
       " ['車', '名詞'],\n",
       " ['）', '記号'],\n",
       " ['の', '助詞'],\n",
       " ['具体', '名詞'],\n",
       " ['的', '名詞'],\n",
       " ['な', '助動詞'],\n",
       " ['開発', '名詞'],\n",
       " ['は', '助詞'],\n",
       " ['1943年', '名詞'],\n",
       " ['（', '記号'],\n",
       " ['昭和', '名詞'],\n",
       " ['18年', '名詞'],\n",
       " ['）', '記号'],\n",
       " ['7月', '名詞'],\n",
       " ['の', '助詞'],\n",
       " ['「', '記号'],\n",
       " ['兵器', '名詞'],\n",
       " ['行政', '名詞'],\n",
       " ['本部', '名詞'],\n",
       " ['研究', '名詞'],\n",
       " ['方針', '名詞'],\n",
       " ['」', '記号'],\n",
       " ['の', '助詞'],\n",
       " ['変更', '名詞'],\n",
       " ['により', '助詞'],\n",
       " ['始まる', '動詞'],\n",
       " ['。', '記号'],\n",
       " ['この', '連体詞'],\n",
       " ['変更', '名詞'],\n",
       " ['は', '助詞'],\n",
       " ['独ソ戦', '名詞'],\n",
       " ['における', '助詞'],\n",
       " ['ドイツ軍', '名詞'],\n",
       " ['と', '助詞'],\n",
       " ['ソ連軍', '名詞']]"
      ]
     },
     "execution_count": 6,
     "metadata": {},
     "output_type": "execute_result"
    }
   ],
   "source": [
    "word_list[50:110]"
   ]
  },
  {
   "cell_type": "markdown",
   "metadata": {},
   "source": [
    "# 最長品詞接続"
   ]
  },
  {
   "cell_type": "code",
   "execution_count": 7,
   "metadata": {
    "collapsed": false
   },
   "outputs": [],
   "source": [
    "res=lcc.connect(word_list)"
   ]
  },
  {
   "cell_type": "code",
   "execution_count": 10,
   "metadata": {
    "collapsed": false
   },
   "outputs": [
    {
     "data": {
      "text/plain": [
       "[['により', '助詞'],\n",
       " ['長砲身75mm戦車砲搭載', '名詞'],\n",
       " ['の', '助詞'],\n",
       " ['35t級中戦車', '名詞'],\n",
       " ['に', '助詞'],\n",
       " ['要求', '名詞'],\n",
       " ['が', '助詞'],\n",
       " ['引き上げられ', '動詞'],\n",
       " ['た', '助動詞'],\n",
       " ['。', '記号'],\n",
       " ['チリ', '名詞'],\n",
       " ['（', '記号'],\n",
       " ['チリ車', '名詞'],\n",
       " ['）', '記号'],\n",
       " ['の', '助詞'],\n",
       " ['具体的', '名詞'],\n",
       " ['な', '助動詞'],\n",
       " ['開発', '名詞'],\n",
       " ['は', '助詞'],\n",
       " ['1943年', '名詞'],\n",
       " ['（', '記号'],\n",
       " ['昭和18年', '名詞'],\n",
       " ['）', '記号'],\n",
       " ['7月', '名詞'],\n",
       " ['の', '助詞'],\n",
       " ['「', '記号'],\n",
       " ['兵器行政本部研究方針', '名詞'],\n",
       " ['」', '記号'],\n",
       " ['の', '助詞'],\n",
       " ['変更', '名詞'],\n",
       " ['により', '助詞'],\n",
       " ['始まる', '動詞'],\n",
       " ['。', '記号'],\n",
       " ['この', '連体詞'],\n",
       " ['変更', '名詞'],\n",
       " ['は', '助詞'],\n",
       " ['独ソ戦', '名詞'],\n",
       " ['における', '助詞'],\n",
       " ['ドイツ軍', '名詞'],\n",
       " ['と', '助詞'],\n",
       " ['ソ連軍', '名詞'],\n",
       " ['の', '助詞'],\n",
       " ['間', '名詞'],\n",
       " ['に', '助詞'],\n",
       " ['発生', '名詞'],\n",
       " ['し', '動詞'],\n",
       " ['た', '助動詞'],\n",
       " ['戦車戦', '名詞'],\n",
       " ['の', '助詞'],\n",
       " ['状況', '名詞']]"
      ]
     },
     "execution_count": 10,
     "metadata": {},
     "output_type": "execute_result"
    }
   ],
   "source": [
    "res[40:90]"
   ]
  },
  {
   "cell_type": "code",
   "execution_count": 11,
   "metadata": {
    "collapsed": false
   },
   "outputs": [
    {
     "name": "stdout",
     "output_type": "stream",
     "text": [
      "通常4196\n",
      "最長3155\n",
      "差1041\n"
     ]
    }
   ],
   "source": [
    "print(\"通常{0}\\n最長{1}\\n差{2}\".format(len(word_list),len(res),len(word_list)-len(res)))"
   ]
  },
  {
   "cell_type": "code",
   "execution_count": null,
   "metadata": {
    "collapsed": true
   },
   "outputs": [],
   "source": []
  },
  {
   "cell_type": "code",
   "execution_count": 12,
   "metadata": {
    "collapsed": false
   },
   "outputs": [
    {
     "data": {
      "text/plain": [
       "'設計・開発・に・至る・前・段階・の・構想・として・、・1942年・（・昭和・17年・）・9月・、・陸軍兵器行政本部・研究・方針・の・中・で・長・砲身・57mm・戦車砲・搭載・の・新・中戦車・（・乙・）・の・存在・が・ある・。・これ・は・固定・式・戦闘・室・の・駆逐戦車・で・あっ・た・が・、・方針・の・変更・により・長・砲身・75mm・戦車砲・搭載・の・35・t級・中戦車・に・要求・が・引き上げ・られ・た・。・チリ・（・チリ・車・）・の・具体・的・な・開発・は・1943年・（・昭和・18年・）・7月・の・「・兵器・行政・本部・研究・方針・」・の・変更・により'"
      ]
     },
     "execution_count": 12,
     "metadata": {},
     "output_type": "execute_result"
    }
   ],
   "source": [
    "\"・\".join([i for i,j in word_list[:100]])"
   ]
  },
  {
   "cell_type": "code",
   "execution_count": 13,
   "metadata": {
    "collapsed": false
   },
   "outputs": [
    {
     "data": {
      "text/plain": [
       "'設計開発・に・至る・前段階・の・構想・として・、・1942年・（・昭和17年・）・9月・、・陸軍兵器行政本部研究方針・の・中・で・長砲身57mm戦車砲搭載・の・新中戦車・（・乙・）・の・存在・が・ある・。・これ・は・固定式戦闘室・の・駆逐戦車・であった・が・、・方針・の・変更・により・長砲身75mm戦車砲搭載・の・35t級中戦車・に・要求・が・引き上げられ・た・。・チリ・（・チリ車・）・の・具体的・な・開発・は・1943年・（・昭和18年・）・7月・の・「・兵器行政本部研究方針・」・の・変更・により・始まる・。・この・変更・は・独ソ戦・における・ドイツ軍・と・ソ連軍・の・間・に・発生・し・た・戦車戦・の・状況・、・両軍・の・投入・し・た・戦車・の・性能等・を'"
      ]
     },
     "execution_count": 13,
     "metadata": {},
     "output_type": "execute_result"
    }
   ],
   "source": [
    "\"・\".join([i for i,j in res[:100]])"
   ]
  },
  {
   "cell_type": "code",
   "execution_count": null,
   "metadata": {
    "collapsed": true
   },
   "outputs": [],
   "source": []
  },
  {
   "cell_type": "code",
   "execution_count": 14,
   "metadata": {
    "collapsed": true
   },
   "outputs": [],
   "source": [
    "default=set(w for w,p in word_list if p==\"名詞\")"
   ]
  },
  {
   "cell_type": "code",
   "execution_count": 15,
   "metadata": {
    "collapsed": true
   },
   "outputs": [],
   "source": [
    "longest_match=set(w for w,p in res if p==\"名詞\")"
   ]
  },
  {
   "cell_type": "code",
   "execution_count": 16,
   "metadata": {
    "collapsed": false
   },
   "outputs": [
    {
     "data": {
      "text/plain": [
       "409"
      ]
     },
     "execution_count": 16,
     "metadata": {},
     "output_type": "execute_result"
    }
   ],
   "source": [
    "len(longest_match.difference(default))"
   ]
  },
  {
   "cell_type": "code",
   "execution_count": 17,
   "metadata": {
    "collapsed": false
   },
   "outputs": [],
   "source": [
    "diff=list(longest_match.difference(default))"
   ]
  },
  {
   "cell_type": "code",
   "execution_count": 25,
   "metadata": {
    "collapsed": false
   },
   "outputs": [
    {
     "name": "stdout",
     "output_type": "stream",
     "text": [
      "最長の例\n"
     ]
    },
    {
     "data": {
      "text/plain": [
       "['全備重量34',\n",
       " '第4陸軍技術研究所ほか三菱重工業東京機器製作所',\n",
       " '砲塔後部',\n",
       " '開発担当者',\n",
       " '20t級',\n",
       " '車体前面左',\n",
       " '車体中央部',\n",
       " '砲塔内',\n",
       " 'ファイル形式',\n",
       " '試製十糎対戦車砲',\n",
       " '前面75mm',\n",
       " 'mp3HD-MP3可逆フォーマット',\n",
       " '半自動装填装置付',\n",
       " '有用性',\n",
       " '新鋭重戦車対策',\n",
       " '確実性',\n",
       " '第一種防弾鋼板',\n",
       " 'Opus-Vorbis',\n",
       " 'July1997',\n",
       " 'WavPack-平均的',\n",
       " '性能等',\n",
       " '車体後方',\n",
       " '傾斜装甲',\n",
       " '重量級',\n",
       " 'WAV形式',\n",
       " 'デジタルデータ',\n",
       " 'AAC音質',\n",
       " '砲塔および戦闘室',\n",
       " '装填能力',\n",
       " 'MatroskaAudio',\n",
       " '一般的',\n",
       " '主砲口径',\n",
       " '口述筆記向け',\n",
       " 'sAudio',\n",
       " '量産予定',\n",
       " 'LA-圧縮率',\n",
       " '歩兵直協',\n",
       " '非圧縮音声フォーマット圧縮',\n",
       " '試製十糎対戦車自走砲カト',\n",
       " '装填手ら']"
      ]
     },
     "execution_count": 25,
     "metadata": {},
     "output_type": "execute_result"
    }
   ],
   "source": [
    "print(\"最長の例\")\n",
    "diff[30:70]"
   ]
  },
  {
   "cell_type": "code",
   "execution_count": null,
   "metadata": {
    "collapsed": true
   },
   "outputs": [],
   "source": []
  },
  {
   "cell_type": "code",
   "execution_count": null,
   "metadata": {
    "collapsed": true
   },
   "outputs": [],
   "source": []
  },
  {
   "cell_type": "code",
   "execution_count": null,
   "metadata": {
    "collapsed": true
   },
   "outputs": [],
   "source": []
  }
 ],
 "metadata": {
  "kernelspec": {
   "display_name": "Python 3",
   "language": "python",
   "name": "python3"
  },
  "language_info": {
   "codemirror_mode": {
    "name": "ipython",
    "version": 3
   },
   "file_extension": ".py",
   "mimetype": "text/x-python",
   "name": "python",
   "nbconvert_exporter": "python",
   "pygments_lexer": "ipython3",
   "version": "3.4.4"
  }
 },
 "nbformat": 4,
 "nbformat_minor": 0
}
