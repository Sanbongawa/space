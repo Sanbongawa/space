{
 "cells": [
  {
   "cell_type": "code",
   "execution_count": 1,
   "metadata": {
    "collapsed": true
   },
   "outputs": [],
   "source": [
    "import torch\n",
    "from torch import nn\n",
    "from torch.nn import functional as F\n",
    "from torch.autograd import Variable\n",
    "from torch import optim\n",
    "\n",
    "import numpy as np\n",
    "import scipy as sp"
   ]
  },
  {
   "cell_type": "code",
   "execution_count": 2,
   "metadata": {
    "collapsed": true
   },
   "outputs": [],
   "source": [
    "from sklearn import datasets\n",
    "from sklearn import model_selection as ms\n",
    "\n",
    "from sklearn.metrics import confusion_matrix"
   ]
  },
  {
   "cell_type": "code",
   "execution_count": 3,
   "metadata": {
    "collapsed": true
   },
   "outputs": [],
   "source": [
    "from matplotlib import pyplot as plt\n",
    "%matplotlib inline"
   ]
  },
  {
   "cell_type": "code",
   "execution_count": 5,
   "metadata": {
    "collapsed": true
   },
   "outputs": [],
   "source": [
    "data = datasets.load_digits().data\n",
    "target = datasets.load_digits().target"
   ]
  },
  {
   "cell_type": "code",
   "execution_count": 6,
   "metadata": {},
   "outputs": [
    {
     "data": {
      "text/plain": [
       "(1797, 64)"
      ]
     },
     "execution_count": 6,
     "metadata": {},
     "output_type": "execute_result"
    }
   ],
   "source": [
    "data.shape"
   ]
  },
  {
   "cell_type": "code",
   "execution_count": 7,
   "metadata": {},
   "outputs": [
    {
     "data": {
      "text/plain": [
       "10"
      ]
     },
     "execution_count": 7,
     "metadata": {},
     "output_type": "execute_result"
    }
   ],
   "source": [
    "len(set(target))"
   ]
  },
  {
   "cell_type": "code",
   "execution_count": null,
   "metadata": {
    "collapsed": true
   },
   "outputs": [],
   "source": []
  },
  {
   "cell_type": "code",
   "execution_count": 9,
   "metadata": {
    "collapsed": true
   },
   "outputs": [],
   "source": [
    "tr_x,te_x,tr_y,te_y = ms.train_test_split(data,target,test_size=0.3, random_state = 123)"
   ]
  },
  {
   "cell_type": "code",
   "execution_count": 10,
   "metadata": {
    "collapsed": true
   },
   "outputs": [],
   "source": [
    "v_tr_x = Variable(torch.FloatTensor(tr_x.astype(float))).cuda()\n",
    "v_tr_y = Variable(torch.from_numpy(tr_y)).cuda()\n",
    "v_te_x = Variable(torch.FloatTensor(te_x.astype(float))).cuda()\n",
    "v_te_y = Variable(torch.from_numpy(te_y)).cuda()"
   ]
  },
  {
   "cell_type": "markdown",
   "metadata": {},
   "source": [
    "## default Network"
   ]
  },
  {
   "cell_type": "code",
   "execution_count": 25,
   "metadata": {
    "collapsed": true
   },
   "outputs": [],
   "source": [
    "class Net(nn.Module):\n",
    "    def __init__(self):\n",
    "        super(Net, self).__init__()\n",
    "        self.l1 = nn.Linear(64,100)\n",
    "        self.l2 = nn.Linear(100,200)\n",
    "        self.l3 = nn.Linear(200,100)\n",
    "        self.l4 = nn.Linear(100,50)\n",
    "        self.l5 = nn.Linear(50,10)\n",
    "        \n",
    "        \n",
    "    def forward(self, x):\n",
    "        x = F.leaky_relu(self.l1(x))\n",
    "        x = F.leaky_relu(self.l2(x))\n",
    "        x = F.dropout(F.leaky_relu(self.l3(x)), inplace=0.1)\n",
    "        x = F.leaky_relu(self.l4(x))\n",
    "        x = self.l5(x)\n",
    "        return F.softmax(x),x"
   ]
  },
  {
   "cell_type": "code",
   "execution_count": 26,
   "metadata": {
    "collapsed": true
   },
   "outputs": [],
   "source": [
    "net = Net().cuda()"
   ]
  },
  {
   "cell_type": "code",
   "execution_count": 27,
   "metadata": {
    "collapsed": true
   },
   "outputs": [],
   "source": [
    "criteration = nn.CrossEntropyLoss()\n",
    "optimizer = optim.Adam(net.parameters(),lr=0.001)"
   ]
  },
  {
   "cell_type": "code",
   "execution_count": 28,
   "metadata": {},
   "outputs": [
    {
     "name": "stdout",
     "output_type": "stream",
     "text": [
      " 1000 : 0.9722222222222222 1.4619531631469727\n",
      " 2000 : 0.9740740740740741 1.4619474411010742\n",
      " 3000 : 0.9777777777777777 1.4619463682174683\n",
      " 4000 : 0.9777777777777777 1.4619462490081787\n",
      " 5000 : 0.9777777777777777 1.4619461297988892\n",
      " 6000 : 0.975925925925926 1.4619461297988892\n",
      " 7000 : 0.9703703703703703 1.4611529111862183\n",
      " 8000 : 0.9703703703703703 1.4611512422561646\n",
      " 9000 : 0.9703703703703703 1.461150884628296\n",
      "10000 : 0.9703703703703703 1.4611507654190063\n"
     ]
    }
   ],
   "source": [
    "loss_list, score_list = [], []\n",
    "for e in range(1,10001):\n",
    "    optimizer.zero_grad()\n",
    "    out,last_out = net(v_tr_x)\n",
    "    loss = criteration(out, v_tr_y)\n",
    "    loss.backward()\n",
    "    optimizer.step()\n",
    "    \n",
    "    \"\"\"ここからは途中の確認とログとり\"\"\"\n",
    "    loss_list.append(loss.cpu().data.numpy()[0])\n",
    "    pred,_= net(v_te_x)\n",
    "    res = torch.exp(pred).cpu().data.numpy()\n",
    "    score_list.append(sum(1 for i,j in zip(te_y,np.argmax(res,axis=1)) if i==j)/len(te_y))\n",
    "    if e%1000 == 0:\n",
    "        #print()\n",
    "        pred,_= net(v_te_x)\n",
    "        res = torch.exp(pred).cpu().data.numpy()\n",
    "        print(\"{0:5d} : {1} {2}\".format(e,sum(1 for i,j in zip(te_y,np.argmax(res,axis=1)) if i==j)/len(te_y),loss.cpu().data.numpy()[0]))"
   ]
  },
  {
   "cell_type": "code",
   "execution_count": null,
   "metadata": {},
   "outputs": [],
   "source": []
  },
  {
   "cell_type": "code",
   "execution_count": 29,
   "metadata": {
    "collapsed": true
   },
   "outputs": [],
   "source": [
    "pred,_= net(v_te_x)"
   ]
  },
  {
   "cell_type": "code",
   "execution_count": 30,
   "metadata": {
    "collapsed": true
   },
   "outputs": [],
   "source": [
    "res = torch.exp(pred).cpu().data.numpy()"
   ]
  },
  {
   "cell_type": "code",
   "execution_count": 31,
   "metadata": {
    "scrolled": false
   },
   "outputs": [
    {
     "data": {
      "text/plain": [
       "array([[58,  0,  0,  0,  1,  0,  0,  0,  0,  0],\n",
       "       [ 0, 56,  0,  0,  0,  0,  0,  0,  0,  0],\n",
       "       [ 0,  1, 51,  1,  0,  0,  0,  0,  0,  0],\n",
       "       [ 0,  0,  1, 45,  0,  0,  0,  0,  0,  0],\n",
       "       [ 0,  0,  0,  0, 61,  0,  0,  0,  0,  0],\n",
       "       [ 0,  0,  0,  0,  1, 52,  0,  0,  0,  4],\n",
       "       [ 0,  1,  0,  0,  0,  0, 56,  0,  0,  0],\n",
       "       [ 0,  0,  0,  0,  0,  0,  0, 50,  0,  0],\n",
       "       [ 0,  3,  0,  0,  0,  0,  0,  0, 44,  1],\n",
       "       [ 0,  0,  0,  1,  0,  0,  0,  0,  1, 51]])"
      ]
     },
     "execution_count": 31,
     "metadata": {},
     "output_type": "execute_result"
    }
   ],
   "source": [
    "confusion_matrix(te_y,np.argmax(res,axis=1))"
   ]
  },
  {
   "cell_type": "code",
   "execution_count": 32,
   "metadata": {},
   "outputs": [
    {
     "data": {
      "text/plain": [
       "(524, 540, 0.9703703703703703)"
      ]
     },
     "execution_count": 32,
     "metadata": {},
     "output_type": "execute_result"
    }
   ],
   "source": [
    "sum(1 for i,j in zip(te_y,np.argmax(res,axis=1)) if i==j),len(te_y),sum(1 for i,j in zip(te_y,np.argmax(res,axis=1)) if i==j)/len(te_y)"
   ]
  },
  {
   "cell_type": "code",
   "execution_count": 33,
   "metadata": {},
   "outputs": [
    {
     "data": {
      "text/plain": [
       "0.9703703703703703"
      ]
     },
     "execution_count": 33,
     "metadata": {},
     "output_type": "execute_result"
    }
   ],
   "source": [
    "pred,_= net(v_te_x)\n",
    "res = torch.exp(pred).cpu().data.numpy()\n",
    "sum(1 for i,j in zip(te_y,np.argmax(res,axis=1)) if i==j)/len(te_y)"
   ]
  },
  {
   "cell_type": "code",
   "execution_count": 37,
   "metadata": {},
   "outputs": [
    {
     "data": {
      "text/plain": [
       "[<matplotlib.lines.Line2D at 0x7f281bbee7b8>]"
      ]
     },
     "execution_count": 37,
     "metadata": {},
     "output_type": "execute_result"
    },
    {
     "data": {
      "image/png": "[encoded data removed]",
      "text/plain": [
       "<matplotlib.figure.Figure at 0x7f2811a224e0>"
      ]
     },
     "metadata": {},
     "output_type": "display_data"
    }
   ],
   "source": [
    "plt.plot(loss_list)"
   ]
  },
  {
   "cell_type": "code",
   "execution_count": 38,
   "metadata": {},
   "outputs": [
    {
     "data": {
      "text/plain": [
       "[<matplotlib.lines.Line2D at 0x7f28119431d0>]"
      ]
     },
     "execution_count": 38,
     "metadata": {},
     "output_type": "execute_result"
    },
    {
     "data": {
      "image/png": "[encoded data removed]",
      "text/plain": [
       "<matplotlib.figure.Figure at 0x7f28115ddd68>"
      ]
     },
     "metadata": {},
     "output_type": "display_data"
    }
   ],
   "source": [
    "plt.plot(score_list)"
   ]
  },
  {
   "cell_type": "markdown",
   "metadata": {},
   "source": [
    "## get soft_target(prob with temp_softmax)"
   ]
  },
  {
   "cell_type": "code",
   "execution_count": 12,
   "metadata": {
    "collapsed": true
   },
   "outputs": [],
   "source": [
    "def tmp_softmax(logit,T=1.0):\n",
    "    tmp = logit / T\n",
    "    over = torch.exp(tmp)\n",
    "    under = torch.sum(torch.exp(tmp),1).view(-1,1)\n",
    "    q = over / under\n",
    "    return q"
   ]
  },
  {
   "cell_type": "code",
   "execution_count": 40,
   "metadata": {
    "collapsed": true
   },
   "outputs": [],
   "source": [
    "soft_target = tmp_softmax(last_out,T=4)"
   ]
  },
  {
   "cell_type": "code",
   "execution_count": 41,
   "metadata": {
    "collapsed": true
   },
   "outputs": [],
   "source": [
    "s_label = soft_target.cpu().data"
   ]
  },
  {
   "cell_type": "code",
   "execution_count": 42,
   "metadata": {
    "collapsed": true
   },
   "outputs": [],
   "source": [
    "soft_v_tr_y = Variable(s_label).cuda()"
   ]
  },
  {
   "cell_type": "code",
   "execution_count": 43,
   "metadata": {},
   "outputs": [
    {
     "data": {
      "text/plain": [
       "Variable containing:\n",
       " 9.5945e-11  2.1271e-07  7.8560e-06  ...   5.0825e-08  2.8476e-06  1.3414e-05\n",
       " 4.4898e-07  2.2617e-05  9.7412e-01  ...   3.7355e-06  5.6558e-05  4.4016e-05\n",
       " 1.4103e-06  1.3363e-08  1.2585e-06  ...   2.9162e-05  1.4487e-06  2.9490e-05\n",
       "                ...                   ⋱                   ...                \n",
       " 2.0039e-04  4.2190e-05  1.2374e-05  ...   3.2652e-05  5.4501e-05  9.9871e-01\n",
       " 2.7892e-04  4.8582e-05  5.1504e-04  ...   1.4525e-03  2.1731e-03  1.8087e-03\n",
       " 5.5500e-04  1.1796e-05  2.0056e-06  ...   4.6183e-06  2.3090e-06  9.9920e-01\n",
       "[torch.cuda.FloatTensor of size 1257x10 (GPU 0)]"
      ]
     },
     "execution_count": 43,
     "metadata": {},
     "output_type": "execute_result"
    }
   ],
   "source": [
    "soft_v_tr_y"
   ]
  },
  {
   "cell_type": "code",
   "execution_count": 44,
   "metadata": {},
   "outputs": [
    {
     "data": {
      "text/plain": [
       "Variable containing:\n",
       " 1\n",
       "[torch.cuda.FloatTensor of size 1 (GPU 0)]"
      ]
     },
     "execution_count": 44,
     "metadata": {},
     "output_type": "execute_result"
    }
   ],
   "source": [
    "torch.sum(soft_v_tr_y[0])"
   ]
  },
  {
   "cell_type": "code",
   "execution_count": 45,
   "metadata": {},
   "outputs": [
    {
     "data": {
      "text/plain": [
       "Variable containing:\n",
       " 0.0000  0.0000  0.0000  ...   0.0000  0.0000  0.0000\n",
       " 0.0000  0.0000  1.0000  ...   0.0000  0.0000  0.0000\n",
       " 0.0000  0.0000  0.0000  ...   0.0000  0.0000  0.0000\n",
       "          ...             ⋱             ...          \n",
       " 0.0000  0.0000  0.0000  ...   0.0000  0.0000  1.0000\n",
       " 0.0000  0.0000  0.0000  ...   0.0000  0.0000  0.0000\n",
       " 0.0000  0.0000  0.0000  ...   0.0000  0.0000  1.0000\n",
       "[torch.cuda.FloatTensor of size 1257x10 (GPU 0)]"
      ]
     },
     "execution_count": 45,
     "metadata": {},
     "output_type": "execute_result"
    }
   ],
   "source": [
    "out"
   ]
  },
  {
   "cell_type": "markdown",
   "metadata": {},
   "source": [
    "## simple net"
   ]
  },
  {
   "cell_type": "code",
   "execution_count": 46,
   "metadata": {
    "collapsed": true
   },
   "outputs": [],
   "source": [
    "class simple_Net(nn.Module):\n",
    "    def __init__(self):\n",
    "        super(simple_Net, self).__init__()\n",
    "        self.l1 = nn.Linear(64,100)\n",
    "        self.l2 = nn.Linear(100,50)\n",
    "        self.l3 = nn.Linear(50,10)\n",
    "        \n",
    "    def forward(self, x):\n",
    "        x = F.leaky_relu(self.l1(x))\n",
    "        x = F.leaky_relu(self.l2(x))\n",
    "        x = self.l3(x)\n",
    "        return F.softmax(x),x"
   ]
  },
  {
   "cell_type": "code",
   "execution_count": 47,
   "metadata": {
    "collapsed": true
   },
   "outputs": [],
   "source": [
    "sim_net = simple_Net().cuda()"
   ]
  },
  {
   "cell_type": "code",
   "execution_count": 48,
   "metadata": {
    "collapsed": true
   },
   "outputs": [],
   "source": [
    "criteration = nn.CrossEntropyLoss()\n",
    "loss1 = nn.CrossEntropyLoss()\n",
    "loss2 = nn.CrossEntropyLoss()\n",
    "\n",
    "optimizer = optim.Adam(sim_net.parameters(),lr=0.005)\n",
    "#optimizer = optim.SGD(sim_net.parameters(),lr=0.01)"
   ]
  },
  {
   "cell_type": "code",
   "execution_count": 49,
   "metadata": {},
   "outputs": [
    {
     "name": "stdout",
     "output_type": "stream",
     "text": [
      " 1000 : 0.9722222222222222 39.858245849609375\n",
      " 2000 : 0.9722222222222222 39.22080612182617\n",
      " 3000 : 0.9722222222222222 39.0859375\n",
      " 4000 : 0.9722222222222222 39.02775573730469\n",
      " 5000 : 0.9703703703703703 38.991905212402344\n",
      " 6000 : 0.9703703703703703 38.97066879272461\n",
      " 7000 : 0.9722222222222222 38.956363677978516\n",
      " 8000 : 0.975925925925926 39.22239685058594\n",
      " 9000 : 0.9740740740740741 39.04508590698242\n",
      "10000 : 0.975925925925926 38.99543762207031\n"
     ]
    }
   ],
   "source": [
    "loss_list, score_list = [], []\n",
    "for e in range(1,10001):\n",
    "    optimizer.zero_grad()\n",
    "    out,last_out = sim_net(v_tr_x)\n",
    "    #loss = criteration(out, v_tr_y) + criteration(out,soft_target)\n",
    "    #soft_loss = -torch.sum(v_tr_y.view(-1,1).float() * torch.log(soft_v_tr_y))\n",
    "    #student_soft = tmp_softmax(last_out,T=4) \n",
    "    \n",
    "    soft_loss = -torch.sum(soft_v_tr_y * torch.log(out))\n",
    "    hard_loss = loss1(out,v_tr_y)#-torch.sum(v_tr_y.view(-1,1).float() * torch.log(out))\n",
    "    loss = (hard_loss+soft_loss)/2\n",
    "    \n",
    "    loss.backward()\n",
    "    optimizer.step()\n",
    "    \n",
    "    loss_list.append(loss.cpu().data.numpy()[0])\n",
    "    pred,_= sim_net(v_te_x)\n",
    "    res = torch.exp(pred).cpu().data.numpy()\n",
    "    score_list.append(sum(1 for i,j in zip(te_y,np.argmax(res,axis=1)) if i==j)/len(te_y))\n",
    "    if e%1000 == 0:\n",
    "        #print(lr)\n",
    "        sim_pred,_= sim_net(v_te_x)\n",
    "        #res = torch.exp(pred).\n",
    "        sim_res=pred.cpu().data.numpy()\n",
    "        #print(sum(1 for i,j in zip(te_y,np.argmax(sim_res,axis=1)) if i==j))\n",
    "        print(\"{0:5d} : {1} {2}\".format(e,sum(1 for i,j in zip(te_y,np.argmax(sim_res,axis=1)) if i==j)/len(te_y),loss.cpu().data.numpy()[0]))"
   ]
  },
  {
   "cell_type": "code",
   "execution_count": null,
   "metadata": {
    "collapsed": true
   },
   "outputs": [],
   "source": []
  },
  {
   "cell_type": "code",
   "execution_count": 50,
   "metadata": {
    "collapsed": true
   },
   "outputs": [],
   "source": [
    "pred,_= sim_net(v_te_x)"
   ]
  },
  {
   "cell_type": "code",
   "execution_count": 51,
   "metadata": {
    "collapsed": true
   },
   "outputs": [],
   "source": [
    "res = pred.cpu().data.numpy()"
   ]
  },
  {
   "cell_type": "code",
   "execution_count": 52,
   "metadata": {
    "scrolled": true
   },
   "outputs": [
    {
     "data": {
      "text/plain": [
       "array([[59,  0,  0,  0,  0,  0,  0,  0,  0,  0],\n",
       "       [ 0, 56,  0,  0,  0,  0,  0,  0,  0,  0],\n",
       "       [ 0,  1, 51,  1,  0,  0,  0,  0,  0,  0],\n",
       "       [ 0,  0,  1, 45,  0,  0,  0,  0,  0,  0],\n",
       "       [ 0,  0,  0,  0, 61,  0,  0,  0,  0,  0],\n",
       "       [ 0,  0,  0,  0,  1, 52,  0,  0,  0,  4],\n",
       "       [ 0,  0,  0,  0,  0,  0, 57,  0,  0,  0],\n",
       "       [ 0,  0,  0,  0,  0,  0,  0, 50,  0,  0],\n",
       "       [ 0,  3,  0,  0,  0,  0,  0,  0, 45,  0],\n",
       "       [ 0,  0,  0,  0,  0,  0,  0,  0,  2, 51]])"
      ]
     },
     "execution_count": 52,
     "metadata": {},
     "output_type": "execute_result"
    }
   ],
   "source": [
    "confusion_matrix(v_te_y.cpu().data.numpy(),np.argmax(res,axis=1))"
   ]
  },
  {
   "cell_type": "code",
   "execution_count": 53,
   "metadata": {},
   "outputs": [
    {
     "data": {
      "text/plain": [
       "(527, 540, 0.975925925925926)"
      ]
     },
     "execution_count": 53,
     "metadata": {},
     "output_type": "execute_result"
    }
   ],
   "source": [
    "sum(1 for i,j in zip(te_y,np.argmax(res,axis=1)) if i==j),len(te_y),sum(1 for i,j in zip(te_y,np.argmax(res,axis=1)) if i==j)/len(te_y)"
   ]
  },
  {
   "cell_type": "code",
   "execution_count": 54,
   "metadata": {},
   "outputs": [
    {
     "data": {
      "text/plain": [
       "[<matplotlib.lines.Line2D at 0x7f28117acd68>]"
      ]
     },
     "execution_count": 54,
     "metadata": {},
     "output_type": "execute_result"
    },
    {
     "data": {
      "image/png": "[encoded data removed]",
      "text/plain": [
       "<matplotlib.figure.Figure at 0x7f281bca8dd8>"
      ]
     },
     "metadata": {},
     "output_type": "display_data"
    }
   ],
   "source": [
    "plt.plot(loss_list)"
   ]
  },
  {
   "cell_type": "code",
   "execution_count": 55,
   "metadata": {},
   "outputs": [
    {
     "data": {
      "text/plain": [
       "[<matplotlib.lines.Line2D at 0x7f2811b39cf8>]"
      ]
     },
     "execution_count": 55,
     "metadata": {},
     "output_type": "execute_result"
    },
    {
     "data": {
      "image/png": "[encoded data removed]",
      "text/plain": [
       "<matplotlib.figure.Figure at 0x7f2811983400>"
      ]
     },
     "metadata": {},
     "output_type": "display_data"
    }
   ],
   "source": [
    "plt.plot(score_list)"
   ]
  },
  {
   "cell_type": "code",
   "execution_count": null,
   "metadata": {
    "collapsed": true
   },
   "outputs": [],
   "source": []
  },
  {
   "cell_type": "code",
   "execution_count": null,
   "metadata": {
    "collapsed": true
   },
   "outputs": [],
   "source": [
    "loss_list, score_list = [], []\n",
    "loss_list.append(loss.cpu().data.numpy()[0])\n",
    "pred,_= sim_net(v_te_x)\n",
    "res = torch.exp(pred).cpu().data.numpy()\n",
    "score_list.append(sum(1 for i,j in zip(te_y,np.argmax(res,axis=1)) if i==j)/len(te_y))"
   ]
  },
  {
   "cell_type": "markdown",
   "metadata": {},
   "source": [
    "# MNISTで蒸留をやってみる"
   ]
  },
  {
   "cell_type": "code",
   "execution_count": 4,
   "metadata": {
    "collapsed": true
   },
   "outputs": [],
   "source": [
    "import pandas as pd"
   ]
  },
  {
   "cell_type": "code",
   "execution_count": 5,
   "metadata": {
    "collapsed": true
   },
   "outputs": [],
   "source": [
    "df = pd.read_csv(\"../DNN_prac/challenge_MNIST/train.csv\")"
   ]
  },
  {
   "cell_type": "code",
   "execution_count": 6,
   "metadata": {
    "collapsed": true
   },
   "outputs": [],
   "source": [
    "label = df[\"label\"].as_matrix()"
   ]
  },
  {
   "cell_type": "code",
   "execution_count": 7,
   "metadata": {
    "collapsed": true
   },
   "outputs": [],
   "source": [
    "data = df.drop(\"label\",axis=1).as_matrix()"
   ]
  },
  {
   "cell_type": "code",
   "execution_count": 8,
   "metadata": {},
   "outputs": [
    {
     "data": {
      "text/plain": [
       "(42000, 784)"
      ]
     },
     "execution_count": 8,
     "metadata": {},
     "output_type": "execute_result"
    }
   ],
   "source": [
    "data.shape"
   ]
  },
  {
   "cell_type": "code",
   "execution_count": 9,
   "metadata": {
    "collapsed": true
   },
   "outputs": [],
   "source": [
    "tr_d,te_x,tr_l,te_y = ms.train_test_split(data.reshape(data.shape[0],1,28,28),label,test_size=0.2,random_state=123)"
   ]
  },
  {
   "cell_type": "code",
   "execution_count": 10,
   "metadata": {},
   "outputs": [
    {
     "data": {
      "text/plain": [
       "(33600, 1, 28, 28)"
      ]
     },
     "execution_count": 10,
     "metadata": {},
     "output_type": "execute_result"
    }
   ],
   "source": [
    "tr_d.shape"
   ]
  },
  {
   "cell_type": "code",
   "execution_count": 11,
   "metadata": {
    "collapsed": true
   },
   "outputs": [],
   "source": [
    "tr_x,vali_x,tr_y,vali_y = ms.train_test_split(tr_d,tr_l,test_size=0.2,random_state=124)"
   ]
  },
  {
   "cell_type": "code",
   "execution_count": 14,
   "metadata": {
    "collapsed": true
   },
   "outputs": [],
   "source": [
    "v_tr_x = Variable(torch.FloatTensor(tr_x.astype(float))).cuda()\n",
    "v_tr_y = Variable(torch.from_numpy(tr_y)).cuda()\n",
    "v_vali_x = Variable(torch.FloatTensor(vali_x.astype(float))).cuda()\n",
    "v_vali_y = Variable(torch.from_numpy(vali_y)).cuda()\n",
    "\n",
    "v_te_x = Variable(torch.FloatTensor(te_x.astype(float))).cuda()\n",
    "v_te_y = Variable(torch.from_numpy(te_y)).cuda()\n"
   ]
  },
  {
   "cell_type": "code",
   "execution_count": 15,
   "metadata": {},
   "outputs": [
    {
     "data": {
      "text/plain": [
       "torch.Size([8400, 1, 28, 28])"
      ]
     },
     "execution_count": 15,
     "metadata": {},
     "output_type": "execute_result"
    }
   ],
   "source": [
    "v_te_x.size()"
   ]
  },
  {
   "cell_type": "code",
   "execution_count": 16,
   "metadata": {},
   "outputs": [
    {
     "name": "stdout",
     "output_type": "stream",
     "text": [
      "13\n",
      "6\n",
      "5\n",
      "4\n",
      "1\n"
     ]
    }
   ],
   "source": [
    "def calc_outsize(x,p=0,k=2,s=1):\n",
    "    return (x + p - k)//s + 1\n",
    "x=28\n",
    "pool = lambda x,p: x//p\n",
    "x = calc_outsize(x,p=0,k=2,s=1)\n",
    "x = pool(x,2)\n",
    "print(x)\n",
    "x = calc_outsize(x,p=0,k=2,s=1)\n",
    "x = pool(x,2)\n",
    "print(x)\n",
    "x = calc_outsize(x,p=0,k=2,s=1)\n",
    "#x = pool(x,2)\n",
    "print(x)\n",
    "x = calc_outsize(x,p=0,k=2,s=1)\n",
    "#x = pool(x,2)\n",
    "print(x)\n",
    "x = calc_outsize(x,p=0,k=2,s=1)\n",
    "x = pool(x,2)\n",
    "print(x)"
   ]
  },
  {
   "cell_type": "markdown",
   "metadata": {},
   "source": [
    "# Create teacher model"
   ]
  },
  {
   "cell_type": "code",
   "execution_count": 60,
   "metadata": {
    "collapsed": true
   },
   "outputs": [],
   "source": [
    "class Cnn(nn.Module):\n",
    "    \n",
    "    def __init__(self):\n",
    "        super(Cnn,self).__init__()\n",
    "        self.pool = nn.MaxPool2d(2)\n",
    "        self.conv1 = nn.Conv2d(in_channels=1, out_channels=3, kernel_size=2, stride=1)\n",
    "        self.conv2 = nn.Conv2d(in_channels=3, out_channels=10, kernel_size=2, stride=1)\n",
    "        self.conv3 = nn.Conv2d(in_channels=10, out_channels=40, kernel_size=2, stride=1)\n",
    "        self.conv4 = nn.Conv2d(in_channels=40, out_channels=80, kernel_size=2, stride=1)\n",
    "        self.conv5 = nn.Conv2d(in_channels=80, out_channels=160*2*2, kernel_size=2, stride=1)\n",
    "        \n",
    "        self.fc1 = nn.Linear(in_features=160*2*2, out_features=320)\n",
    "        self.fc2 = nn.Linear(in_features=320, out_features=160)\n",
    "        self.fc3 = nn.Linear(in_features=160, out_features=10)\n",
    "        \n",
    "        \n",
    "    def forward(self, x):\n",
    "        x = self.pool(F.relu(self.conv1(x)))\n",
    "        x = self.pool(F.relu(self.conv2(x)))\n",
    "        x = F.relu(self.conv3(x))\n",
    "        x = F.dropout(F.relu(self.conv4(x)),inplace=0.2)\n",
    "        \n",
    "        x = self.pool(F.relu(self.conv5(x)))\n",
    "        #print(x.size())\n",
    "        x = x.view(-1,160*2*2)\n",
    "        #print(x)\n",
    "        x = F.relu(self.fc1(x))\n",
    "        x = F.relu(self.fc2(x))\n",
    "        x = self.fc3(x)\n",
    "        \n",
    "        return F.log_softmax(x), x"
   ]
  },
  {
   "cell_type": "code",
   "execution_count": 61,
   "metadata": {
    "collapsed": true
   },
   "outputs": [],
   "source": [
    "cnn = Cnn().cuda()"
   ]
  },
  {
   "cell_type": "markdown",
   "metadata": {},
   "source": [
    "## train teacher model"
   ]
  },
  {
   "cell_type": "code",
   "execution_count": 62,
   "metadata": {
    "collapsed": true
   },
   "outputs": [],
   "source": [
    "criteration = nn.CrossEntropyLoss()\n",
    "#optimizer = optim.Adam(cnn.parameters(), lr=0.01)\n",
    "optimizer = optim.SGD(cnn.parameters(), lr=0.01)"
   ]
  },
  {
   "cell_type": "markdown",
   "metadata": {},
   "source": [
    "v_tr_x.size(0)/60"
   ]
  },
  {
   "cell_type": "code",
   "execution_count": 63,
   "metadata": {},
   "outputs": [
    {
     "name": "stdout",
     "output_type": "stream",
     "text": [
      " 2 :  447 : 0.2534682814896639, 6342, 6720, 0.94375\n",
      " 4 :  447 : 0.12095804258258015, 6429, 6720, 0.9566964285714286\n",
      " 6 :  447 : 0.07770124898213128, 6460, 6720, 0.9613095238095238\n",
      " 8 :  447 : 0.047572290178452804, 6473, 6720, 0.9632440476190476\n",
      "10 :  447 : 0.03592048806162244, 6397, 6720, 0.9519345238095238\n",
      "12 :  447 : 0.10012746593734587, 6355, 6720, 0.9456845238095238\n",
      "14 :  447 : 0.024668964409881613, 6505, 6720, 0.9680059523809523\n",
      "16 :  447 : 0.0724349440446466, 6209, 6720, 0.9239583333333333\n",
      "18 :  447 : 0.013431484223344472, 6533, 6720, 0.9721726190476191\n",
      "20 :  447 : 0.006046205543790555, 6560, 6720, 0.9761904761904762\n",
      "22 :  447 : 0.007479733074624002, 6554, 6720, 0.975297619047619\n",
      "24 :  447 : 0.002295850148048625, 6588, 6720, 0.9803571428571428\n",
      "26 :  447 : 0.000558250352355064, 6588, 6720, 0.9803571428571428\n",
      "28 :  447 : 0.00031612668500916437, 6589, 6720, 0.9805059523809524\n",
      "30 :  447 : 0.0002234887428052953, 6590, 6720, 0.9806547619047619\n",
      "32 :  447 : 0.0001646206620285235, 6592, 6720, 0.9809523809523809\n",
      "34 :  447 : 0.0001301202637815635, 6592, 6720, 0.9809523809523809\n",
      "36 :  447 : 0.00010986969312045045, 6592, 6720, 0.9809523809523809\n",
      "38 :  447 : 9.55384060669243e-05, 6592, 6720, 0.9809523809523809\n",
      "40 :  447 : 8.455171162895831e-05, 6591, 6720, 0.9808035714285714\n",
      "42 :  447 : 7.55575121801831e-05, 6590, 6720, 0.9806547619047619\n",
      "44 :  447 : 6.837849186723335e-05, 6590, 6720, 0.9806547619047619\n",
      "46 :  447 : 6.22280338572637e-05, 6589, 6720, 0.9805059523809524\n",
      "48 :  447 : 5.704890904761102e-05, 6588, 6720, 0.9803571428571428\n",
      "50 :  447 : 5.26553792333319e-05, 6588, 6720, 0.9803571428571428\n",
      "52 :  447 : 4.881562494372739e-05, 6588, 6720, 0.9803571428571428\n",
      "54 :  447 : 4.548477217133521e-05, 6586, 6720, 0.9800595238095238\n",
      "56 :  447 : 4.256765697051103e-05, 6587, 6720, 0.9802083333333333\n",
      "58 :  447 : 3.999647128156385e-05, 6586, 6720, 0.9800595238095238\n",
      "60 :  447 : 3.767716482140836e-05, 6586, 6720, 0.9800595238095238\n",
      "62 :  447 : 3.5601464817403006e-05, 6586, 6720, 0.9800595238095238\n",
      "64 :  447 : 3.373954871548663e-05, 6586, 6720, 0.9800595238095238\n",
      "66 :  447 : 3.201662496074168e-05, 6586, 6720, 0.9800595238095238\n",
      "68 :  447 : 3.050941960341153e-05, 6586, 6720, 0.9800595238095238\n",
      "70 :  447 : 2.909887097516225e-05, 6586, 6720, 0.9800595238095238\n",
      "72 :  447 : 2.78131873801308e-05, 6586, 6720, 0.9800595238095238\n",
      "74 :  447 : 2.6624448954689788e-05, 6588, 6720, 0.9803571428571428\n",
      "76 :  447 : 2.5537481544673263e-05, 6588, 6720, 0.9803571428571428\n",
      "78 :  447 : 2.4535706681435725e-05, 6588, 6720, 0.9803571428571428\n",
      "80 :  447 : 2.3610954576361704e-05, 6588, 6720, 0.9803571428571428\n",
      "82 :  447 : 2.2739653878913112e-05, 6588, 6720, 0.9803571428571428\n",
      "84 :  447 : 2.193474759658904e-05, 6588, 6720, 0.9803571428571428\n",
      "86 :  447 : 2.118033975999158e-05, 6588, 6720, 0.9803571428571428\n",
      "88 :  447 : 2.0478995266740414e-05, 6588, 6720, 0.9803571428571428\n",
      "90 :  447 : 1.981801460708223e-05, 6588, 6720, 0.9803571428571428\n",
      "92 :  447 : 1.9202328392769236e-05, 6588, 6720, 0.9803571428571428\n",
      "94 :  447 : 1.8613141579930975e-05, 6587, 6720, 0.9802083333333333\n",
      "96 :  447 : 1.8064921985246262e-05, 6587, 6720, 0.9802083333333333\n",
      "98 :  447 : 1.7543518407940407e-05, 6587, 6720, 0.9802083333333333\n",
      "100 :  447 : 1.705365038523873e-05, 6587, 6720, 0.9802083333333333\n",
      "CPU times: user 1min 54s, sys: 4.04 s, total: 1min 58s\n",
      "Wall time: 1min 57s\n"
     ]
    }
   ],
   "source": [
    "%%time\n",
    "l = 60\n",
    "loss_list, score_list = [], []\n",
    "\n",
    "for e in range(1,101):\n",
    "    lr = []\n",
    "    for i in range(448):\n",
    "        in_data, in_label = v_tr_x[(0+i)*l:(1+i)*l], v_tr_y[(0+i)*l:(1+i)*l]\n",
    "        \n",
    "        optimizer.zero_grad()\n",
    "        out,last_out = cnn(in_data)\n",
    "        loss = criteration(out, in_label)\n",
    "        loss.backward()\n",
    "        \n",
    "        optimizer.step()\n",
    "        \n",
    "\n",
    "        \n",
    "        lr += [loss.data.mean()]\n",
    "        \n",
    "    loss_list.append(loss.cpu().data.numpy()[0])\n",
    "    pred,_= cnn(v_te_x)\n",
    "    res = torch.exp(pred).cpu().data.numpy()\n",
    "    score_list.append(sum(1 for i,j in zip(te_y,np.argmax(res,axis=1)) if i==j)/len(te_y))\n",
    "    \n",
    "    if e%2 == 0:\n",
    "        pred,_ = cnn(v_vali_x)\n",
    "        res = pred.max(1)[1].cpu().data.numpy()\n",
    "        print(\"{0:2d} : {1:4d} : {2}, {3}, {4}, {5}\".format(e,i,np.mean(lr),\\\n",
    "                sum(1 for i,j in zip(vali_y,res) if i==j),len(vali_y),sum(1 for i,j in zip(vali_y,res) if i==j)/len(vali_y)))"
   ]
  },
  {
   "cell_type": "code",
   "execution_count": 64,
   "metadata": {
    "collapsed": true
   },
   "outputs": [],
   "source": [
    "pred,_ = cnn(v_vali_x)"
   ]
  },
  {
   "cell_type": "code",
   "execution_count": 65,
   "metadata": {
    "collapsed": true
   },
   "outputs": [],
   "source": [
    "res = pred.max(1)[1].cpu().data.numpy()"
   ]
  },
  {
   "cell_type": "code",
   "execution_count": 66,
   "metadata": {},
   "outputs": [
    {
     "data": {
      "text/plain": [
       "array([1, 9, 5, ..., 8, 9, 2])"
      ]
     },
     "execution_count": 66,
     "metadata": {},
     "output_type": "execute_result"
    }
   ],
   "source": [
    "res"
   ]
  },
  {
   "cell_type": "code",
   "execution_count": 67,
   "metadata": {},
   "outputs": [
    {
     "data": {
      "text/plain": [
       "array([[657,   1,   0,   0,   2,   2,   1,   1,   0,   1],\n",
       "       [  1, 772,   1,   0,   0,   0,   0,   1,   1,   0],\n",
       "       [  0,   1, 627,   3,   2,   0,   0,   4,   4,   0],\n",
       "       [  1,   0,   6, 657,   0,   9,   0,   1,   3,   1],\n",
       "       [  1,   1,   3,   0, 658,   0,   1,   2,   1,   5],\n",
       "       [  1,   0,   0,   2,   0, 593,   1,   0,   3,   0],\n",
       "       [  2,   0,   1,   0,   0,   1, 663,   0,   4,   0],\n",
       "       [  0,   1,   4,   2,   0,   1,   0, 667,   2,   4],\n",
       "       [  3,   3,   1,   3,   2,   0,   1,   2, 612,   3],\n",
       "       [  4,   0,   0,   0,   6,   4,   0,   6,   5, 681]])"
      ]
     },
     "execution_count": 67,
     "metadata": {},
     "output_type": "execute_result"
    }
   ],
   "source": [
    "confusion_matrix(vali_y,res)"
   ]
  },
  {
   "cell_type": "code",
   "execution_count": 68,
   "metadata": {},
   "outputs": [
    {
     "data": {
      "text/plain": [
       "(6587, 6720, 0.9802083333333333)"
      ]
     },
     "execution_count": 68,
     "metadata": {},
     "output_type": "execute_result"
    }
   ],
   "source": [
    "sum(1 for i,j in zip(vali_y,res) if i==j),len(vali_y),sum(1 for i,j in zip(vali_y,res) if i==j)/len(vali_y)"
   ]
  },
  {
   "cell_type": "code",
   "execution_count": 69,
   "metadata": {},
   "outputs": [
    {
     "data": {
      "text/plain": [
       "[<matplotlib.lines.Line2D at 0x7f7e35555d30>]"
      ]
     },
     "execution_count": 69,
     "metadata": {},
     "output_type": "execute_result"
    },
    {
     "data": {
      "image/png": "[encoded data removed]",
      "text/plain": [
       "<matplotlib.figure.Figure at 0x7f7e326c7748>"
      ]
     },
     "metadata": {},
     "output_type": "display_data"
    }
   ],
   "source": [
    "plt.plot(loss_list)"
   ]
  },
  {
   "cell_type": "code",
   "execution_count": 70,
   "metadata": {},
   "outputs": [
    {
     "data": {
      "text/plain": [
       "[<matplotlib.lines.Line2D at 0x7f7e333636a0>]"
      ]
     },
     "execution_count": 70,
     "metadata": {},
     "output_type": "execute_result"
    },
    {
     "data": {
      "image/png": "[encoded data removed]",
      "text/plain": [
       "<matplotlib.figure.Figure at 0x7f7e355106a0>"
      ]
     },
     "metadata": {},
     "output_type": "display_data"
    }
   ],
   "source": [
    "plt.plot(score_list)"
   ]
  },
  {
   "cell_type": "code",
   "execution_count": null,
   "metadata": {
    "collapsed": true
   },
   "outputs": [],
   "source": []
  },
  {
   "cell_type": "markdown",
   "metadata": {},
   "source": [
    "# test_dataでの検証"
   ]
  },
  {
   "cell_type": "code",
   "execution_count": 71,
   "metadata": {},
   "outputs": [
    {
     "name": "stdout",
     "output_type": "stream",
     "text": [
      "[[779   0   2   0   0   0   2   0   0   2]\n",
      " [  0 934   5   2   1   0   0   1   6   0]\n",
      " [  0   1 820   3   0   1   0   5   5   3]\n",
      " [  0   0   6 838   0   4   0   2   7   1]\n",
      " [  0   2   1   0 780   1   2   2   2   6]\n",
      " [  1   1   1   6   2 780   4   0   4   1]\n",
      " [  1   1   0   0   1   2 865   0   0   0]\n",
      " [  1   1   9   4   3   0   0 832   4   6]\n",
      " [  1   4   1   3   2   5   2   1 790   8]\n",
      " [  4   0   1   3   9   7   0   3   3 797]]\n"
     ]
    },
    {
     "data": {
      "text/plain": [
       "(8215, 8400, 0.9779761904761904)"
      ]
     },
     "execution_count": 71,
     "metadata": {},
     "output_type": "execute_result"
    }
   ],
   "source": [
    "pred,_ = cnn(v_te_x)\n",
    "res = pred.max(1)[1].cpu().data.numpy()\n",
    "print(confusion_matrix(te_y,res))\n",
    "sum(1 for i,j in zip(te_y,res) if i==j),len(te_y),sum(1 for i,j in zip(te_y,res) if i==j)/len(te_y)"
   ]
  },
  {
   "cell_type": "markdown",
   "metadata": {},
   "source": [
    "# 学習を終えた教師モデルからlogitを獲得\n",
    "# logitをtemp_softmaxに流し，温度付きの確率ラベルを獲得\n",
    "\n",
    "### Get a logit from a teacher model that has finished learning.\n",
    "### The prob label is obtained using the temp_softmax function with logit."
   ]
  },
  {
   "cell_type": "code",
   "execution_count": 72,
   "metadata": {
    "collapsed": true
   },
   "outputs": [],
   "source": [
    "_,last_out = cnn(v_tr_x)"
   ]
  },
  {
   "cell_type": "code",
   "execution_count": 73,
   "metadata": {
    "collapsed": true
   },
   "outputs": [],
   "source": [
    "soft_target = tmp_softmax(last_out,T=3)"
   ]
  },
  {
   "cell_type": "code",
   "execution_count": 74,
   "metadata": {
    "collapsed": true
   },
   "outputs": [],
   "source": [
    "s_label = soft_target.cpu().data"
   ]
  },
  {
   "cell_type": "code",
   "execution_count": 75,
   "metadata": {
    "collapsed": true
   },
   "outputs": [],
   "source": [
    "soft_v_tr_y = Variable(s_label).cuda()"
   ]
  },
  {
   "cell_type": "code",
   "execution_count": 76,
   "metadata": {},
   "outputs": [
    {
     "name": "stdout",
     "output_type": "stream",
     "text": [
      "12\n",
      "4\n",
      "1\n"
     ]
    }
   ],
   "source": [
    "def calc_outsize(x,p=0,k=2,s=1):\n",
    "    return (x + p - k)//s + 1\n",
    "x=28\n",
    "pool = lambda x,p: x//p\n",
    "x = calc_outsize(x,p=0,k=5,s=1)\n",
    "x = pool(x,2)\n",
    "print(x)\n",
    "x = calc_outsize(x,p=0,k=4,s=1)\n",
    "x = pool(x,2)\n",
    "print(x)\n",
    "x = calc_outsize(x,p=0,k=2,s=1)\n",
    "#x = pool(x,2)\n",
    "# print(x)\n",
    "# x = calc_outsize(x,p=0,k=2,s=1)\n",
    "# #x = pool(x,2)\n",
    "# print(x)\n",
    "# x = calc_outsize(x,p=0,k=2,s=1)\n",
    "x = pool(x,2)\n",
    "print(x)"
   ]
  },
  {
   "cell_type": "markdown",
   "metadata": {},
   "source": [
    "## simple cnn"
   ]
  },
  {
   "cell_type": "code",
   "execution_count": 77,
   "metadata": {
    "collapsed": true
   },
   "outputs": [],
   "source": [
    "class simple_CNN(nn.Module):\n",
    "    def __init__(self):\n",
    "        super(simple_CNN,self).__init__()\n",
    "        self.pool = nn.MaxPool2d((2,2))\n",
    "        self.conv1 = nn.Conv2d(in_channels=1, out_channels=10, kernel_size=5, stride=1)\n",
    "        self.conv2 = nn.Conv2d(in_channels=10, out_channels=20, kernel_size=4, stride=1)\n",
    "        self.conv3 = nn.Conv2d(in_channels=20, out_channels=40*2*2, kernel_size=2, stride=1)\n",
    "        \n",
    "        self.fc1 = nn.Linear(in_features=40*2*2,out_features=80)\n",
    "        self.fc2 = nn.Linear(in_features=80,out_features=10)\n",
    "                \n",
    "    def forward(self, x):\n",
    "        x = self.pool(F.leaky_relu(self.conv1(x)))\n",
    "        x = self.pool(F.leaky_relu(self.conv2(x)))\n",
    "        x = self.pool(F.leaky_relu(self.conv3(x)))\n",
    "        \n",
    "        x = x.view(-1,40*2*2)\n",
    "        \n",
    "        x = F.dropout(F.leaky_relu(self.fc1(x)),inplace=0.3)\n",
    "        x = self.fc2(x)\n",
    "        return F.softmax(x), x"
   ]
  },
  {
   "cell_type": "code",
   "execution_count": 78,
   "metadata": {
    "collapsed": true
   },
   "outputs": [],
   "source": [
    "sim_cnn = simple_CNN().cuda()"
   ]
  },
  {
   "cell_type": "code",
   "execution_count": 79,
   "metadata": {
    "collapsed": true
   },
   "outputs": [],
   "source": [
    "criteration = nn.CrossEntropyLoss()\n",
    "loss1 = nn.CrossEntropyLoss()\n",
    "#optimizer = optim.Adam(cnn.parameters(), lr=0.01)\n",
    "optimizer = optim.Adam(sim_cnn.parameters(), lr=0.0001)"
   ]
  },
  {
   "cell_type": "code",
   "execution_count": 80,
   "metadata": {},
   "outputs": [
    {
     "name": "stdout",
     "output_type": "stream",
     "text": [
      " 2 :  447 : 11.510589554373707, 6092, 6720, 0.906547619047619\n",
      " 4 :  447 : 7.122229093685746, 6302, 6720, 0.937797619047619\n",
      " 6 :  447 : 5.710872805012124, 6370, 6720, 0.9479166666666666\n",
      " 8 :  447 : 4.8841389407004625, 6419, 6720, 0.9552083333333333\n",
      "10 :  447 : 4.318345305376819, 6445, 6720, 0.9590773809523809\n",
      "12 :  447 : 3.904970720410347, 6457, 6720, 0.9608630952380952\n",
      "14 :  447 : 3.584715093885149, 6467, 6720, 0.9623511904761904\n",
      "16 :  447 : 3.3269152117094825, 6472, 6720, 0.9630952380952381\n",
      "18 :  447 : 3.0930785313248634, 6485, 6720, 0.9650297619047619\n",
      "20 :  447 : 2.8977319302835634, 6494, 6720, 0.9663690476190476\n",
      "22 :  447 : 2.731431002329503, 6497, 6720, 0.9668154761904761\n",
      "24 :  447 : 2.5935219999934946, 6494, 6720, 0.9663690476190476\n",
      "26 :  447 : 2.483830044844321, 6491, 6720, 0.965922619047619\n",
      "28 :  447 : 2.383506679907441, 6486, 6720, 0.9651785714285714\n",
      "30 :  447 : 2.304387671074697, 6485, 6720, 0.9650297619047619\n",
      "32 :  447 : 2.2372071503528526, 6475, 6720, 0.9635416666666666\n",
      "34 :  447 : 2.1842120981642177, 6475, 6720, 0.9635416666666666\n",
      "36 :  447 : 2.1396541741809676, 6473, 6720, 0.9632440476190476\n",
      "38 :  447 : 2.103099820071033, 6473, 6720, 0.9632440476190476\n",
      "40 :  447 : 2.0660833436995745, 6458, 6720, 0.9610119047619048\n",
      "42 :  447 : 2.032009814998933, 6474, 6720, 0.9633928571428572\n",
      "44 :  447 : 2.00582055135497, 6482, 6720, 0.9645833333333333\n",
      "46 :  447 : 1.9963437813733305, 6468, 6720, 0.9625\n",
      "48 :  447 : 1.9787257784711463, 6465, 6720, 0.9620535714285714\n",
      "50 :  447 : 1.977755677221077, 6491, 6720, 0.965922619047619\n",
      "52 :  447 : 2.0263947607683286, 6447, 6720, 0.959375\n",
      "54 :  447 : 2.0009261409619024, 6489, 6720, 0.965625\n",
      "56 :  447 : 1.96272268332541, 6500, 6720, 0.9672619047619048\n",
      "58 :  447 : 1.9193877995546376, 6489, 6720, 0.965625\n",
      "60 :  447 : 1.8891669099352189, 6497, 6720, 0.9668154761904761\n",
      "62 :  447 : 1.8716874904930592, 6494, 6720, 0.9663690476190476\n",
      "64 :  447 : 1.8677201175263949, 6489, 6720, 0.965625\n",
      "66 :  447 : 1.8727824970015459, 6496, 6720, 0.9666666666666667\n",
      "68 :  447 : 1.92779626590865, 6468, 6720, 0.9625\n",
      "70 :  447 : 1.9376889350158828, 6492, 6720, 0.9660714285714286\n",
      "72 :  447 : 1.9014647166643823, 6511, 6720, 0.9688988095238096\n",
      "74 :  447 : 1.8483259422438485, 6520, 6720, 0.9702380952380952\n",
      "76 :  447 : 1.8200937730393238, 6520, 6720, 0.9702380952380952\n",
      "78 :  447 : 1.8081606168832098, 6519, 6720, 0.9700892857142858\n",
      "80 :  447 : 1.8154683538845606, 6511, 6720, 0.9688988095238096\n",
      "82 :  447 : 1.8670408973204238, 6516, 6720, 0.9696428571428571\n",
      "84 :  447 : 1.9006675678704466, 6508, 6720, 0.968452380952381\n",
      "86 :  447 : 1.8305717028145279, 6532, 6720, 0.9720238095238095\n",
      "88 :  447 : 1.7976246867328882, 6523, 6720, 0.9706845238095239\n",
      "90 :  447 : 1.7759716885962658, 6518, 6720, 0.9699404761904762\n",
      "92 :  447 : 1.7690326643309422, 6523, 6720, 0.9706845238095239\n",
      "94 :  447 : 1.780355497130326, 6528, 6720, 0.9714285714285714\n",
      "96 :  447 : 1.8538091941071408, 6522, 6720, 0.9705357142857143\n",
      "98 :  447 : 1.7779267927897828, 6545, 6720, 0.9739583333333334\n",
      "100 :  447 : 1.7504396185811077, 6538, 6720, 0.9729166666666667\n",
      "CPU times: user 1min 39s, sys: 1.01 s, total: 1min 40s\n",
      "Wall time: 1min 39s\n"
     ]
    }
   ],
   "source": [
    "%%time\n",
    "l = 60\n",
    "loss_list, score_list = [], []\n",
    "for e in range(1,101):\n",
    "    lr = []\n",
    "    for i in range(448):\n",
    "        in_data, in_label = v_tr_x[(0+i)*l:(1+i)*l], v_tr_y[(0+i)*l:(1+i)*l]\n",
    "        #print(in_data.size())\n",
    "        optimizer.zero_grad()\n",
    "        out,_ = sim_cnn(in_data)\n",
    "        #_,soft_out = cnn(in_data)\n",
    "        #soft_loss = -torch.sum(soft_out * torch.log1p(out))\n",
    "        soft_loss = -torch.sum(soft_v_tr_y[(0+i)*l:(1+i)*l] * torch.log(out))\n",
    "        hard_loss = loss1(out,in_label)#-torch.sum(v_tr_y.view(-1,1).float() * torch.log(out))\n",
    "        loss = (hard_loss+soft_loss)/2\n",
    "        \n",
    "        #loss = criteration(out, in_label)\n",
    "        loss.backward()\n",
    "        \n",
    "        optimizer.step()\n",
    "        \n",
    "        lr += [loss.data.mean()]\n",
    "    loss_list.append(loss.cpu().data.numpy()[0])\n",
    "    pred,_= sim_cnn(v_te_x)\n",
    "    res = torch.exp(pred).cpu().data.numpy()\n",
    "    score_list.append(sum(1 for i,j in zip(te_y,np.argmax(res,axis=1)) if i==j)/len(te_y))\n",
    "    if e%2 == 0:\n",
    "        pred,_ = sim_cnn(v_vali_x)\n",
    "        res = pred.max(1)[1].cpu().data.numpy()\n",
    "        print(\"{0:2d} : {1:4d} : {2}, {3}, {4}, {5}\".format(e,i,np.mean(lr),\\\n",
    "                sum(1 for i,j in zip(vali_y,res) if i==j),len(vali_y),sum(1 for i,j in zip(vali_y,res) if i==j)/len(vali_y)))"
   ]
  },
  {
   "cell_type": "markdown",
   "metadata": {},
   "source": [
    "# evaluate test_data"
   ]
  },
  {
   "cell_type": "code",
   "execution_count": 81,
   "metadata": {},
   "outputs": [
    {
     "name": "stdout",
     "output_type": "stream",
     "text": [
      "[[766   0   1   0   1   6   7   2   0   2]\n",
      " [  0 943   3   1   0   0   0   1   1   0]\n",
      " [  0   2 818   5   1   0   0   7   5   0]\n",
      " [  0   0   6 839   0   4   0   4   5   0]\n",
      " [  0   3   1   0 784   0   2   0   3   3]\n",
      " [  1   2   1   3   1 778   3   1   9   1]\n",
      " [  2   2   2   0   2   4 857   0   1   0]\n",
      " [  0   1  16   3   2   0   0 834   1   3]\n",
      " [  0   4   1   0   1   5   0   1 802   3]\n",
      " [  5   1   0   1  15   6   0  10   7 782]]\n"
     ]
    },
    {
     "data": {
      "text/plain": [
       "(8203, 8400, 0.976547619047619)"
      ]
     },
     "execution_count": 81,
     "metadata": {},
     "output_type": "execute_result"
    }
   ],
   "source": [
    "pred,_ = sim_cnn(v_te_x)\n",
    "res = pred.max(1)[1].cpu().data.numpy()\n",
    "print(confusion_matrix(te_y,res))\n",
    "sum(1 for i,j in zip(te_y,res) if i==j),len(te_y),sum(1 for i,j in zip(te_y,res) if i==j)/len(te_y)"
   ]
  },
  {
   "cell_type": "code",
   "execution_count": 82,
   "metadata": {},
   "outputs": [
    {
     "data": {
      "text/plain": [
       "[<matplotlib.lines.Line2D at 0x7f7e603fd7f0>]"
      ]
     },
     "execution_count": 82,
     "metadata": {},
     "output_type": "execute_result"
    },
    {
     "data": {
      "image/png": "[encoded data removed]",
      "text/plain": [
       "<matplotlib.figure.Figure at 0x7f7e32603b00>"
      ]
     },
     "metadata": {},
     "output_type": "display_data"
    }
   ],
   "source": [
    "plt.plot(loss_list)"
   ]
  },
  {
   "cell_type": "code",
   "execution_count": 83,
   "metadata": {},
   "outputs": [
    {
     "data": {
      "text/plain": [
       "[<matplotlib.lines.Line2D at 0x7f7e3258b400>]"
      ]
     },
     "execution_count": 83,
     "metadata": {},
     "output_type": "execute_result"
    },
    {
     "data": {
      "image/png": "[encoded data removed]",
      "text/plain": [
       "<matplotlib.figure.Figure at 0x7f7e60485208>"
      ]
     },
     "metadata": {},
     "output_type": "display_data"
    }
   ],
   "source": [
    "plt.plot(score_list)"
   ]
  },
  {
   "cell_type": "code",
   "execution_count": null,
   "metadata": {
    "collapsed": true
   },
   "outputs": [],
   "source": []
  },
  {
   "cell_type": "markdown",
   "metadata": {},
   "source": [
    "# 蒸留無し\n",
    "### without distillation"
   ]
  },
  {
   "cell_type": "code",
   "execution_count": 88,
   "metadata": {},
   "outputs": [
    {
     "name": "stdout",
     "output_type": "stream",
     "text": [
      " 2 :  447 : 1.7545084894767828, 4924, 6720, 0.7327380952380952\n",
      " 4 :  447 : 1.7083871361932583, 5076, 6720, 0.7553571428571428\n",
      " 6 :  447 : 1.6966390434120382, 5142, 6720, 0.7651785714285714\n",
      " 8 :  447 : 1.6899362384740795, 5173, 6720, 0.7697916666666667\n",
      "10 :  447 : 1.659784131018179, 5725, 6720, 0.8519345238095238\n",
      "12 :  447 : 1.5976560711860657, 5819, 6720, 0.865922619047619\n",
      "14 :  447 : 1.5906002351215907, 5844, 6720, 0.8696428571428572\n",
      "16 :  447 : 1.5872163203145777, 5842, 6720, 0.8693452380952381\n",
      "18 :  447 : 1.5846699287316628, 5838, 6720, 0.86875\n",
      "20 :  447 : 1.5824364426412754, 5846, 6720, 0.8699404761904762\n",
      "22 :  447 : 1.580899961824928, 5855, 6720, 0.8712797619047619\n",
      "24 :  447 : 1.5797694304159708, 5846, 6720, 0.8699404761904762\n",
      "26 :  447 : 1.5796336497047119, 5858, 6720, 0.8717261904761905\n",
      "28 :  447 : 1.5778217964938708, 5848, 6720, 0.8702380952380953\n",
      "30 :  447 : 1.5776055359414645, 5866, 6720, 0.8729166666666667\n",
      "32 :  447 : 1.5766221625464303, 5874, 6720, 0.8741071428571429\n",
      "34 :  447 : 1.5763796179422311, 5875, 6720, 0.8742559523809523\n",
      "36 :  447 : 1.5748116331441062, 5862, 6720, 0.8723214285714286\n",
      "38 :  447 : 1.5736845641263895, 5835, 6720, 0.8683035714285714\n",
      "40 :  447 : 1.573755853144186, 5892, 6720, 0.8767857142857143\n",
      "42 :  447 : 1.484190828033856, 6473, 6720, 0.9632440476190476\n",
      "44 :  447 : 1.4778001316423928, 6484, 6720, 0.9648809523809524\n",
      "46 :  447 : 1.4755913593939372, 6521, 6720, 0.9703869047619048\n",
      "48 :  447 : 1.4738619761275393, 6522, 6720, 0.9705357142857143\n",
      "50 :  447 : 1.4738339643393243, 6517, 6720, 0.9697916666666667\n",
      "52 :  447 : 1.4729591560150896, 6530, 6720, 0.9717261904761905\n",
      "54 :  447 : 1.472092762855547, 6535, 6720, 0.9724702380952381\n",
      "56 :  447 : 1.471601679388966, 6538, 6720, 0.9729166666666667\n",
      "58 :  447 : 1.4711782495890344, 6537, 6720, 0.9727678571428572\n",
      "60 :  447 : 1.4714324093822921, 6525, 6720, 0.9709821428571429\n",
      "62 :  447 : 1.4703292500759875, 6542, 6720, 0.9735119047619047\n",
      "64 :  447 : 1.4705351176006454, 6547, 6720, 0.9742559523809524\n",
      "66 :  447 : 1.4694896010415894, 6559, 6720, 0.9760416666666667\n",
      "68 :  447 : 1.4696850595729691, 6558, 6720, 0.9758928571428571\n",
      "70 :  447 : 1.4691269943224532, 6524, 6720, 0.9708333333333333\n",
      "72 :  447 : 1.4693692930574929, 6552, 6720, 0.975\n",
      "74 :  447 : 1.4694912281951733, 6566, 6720, 0.9770833333333333\n",
      "76 :  447 : 1.4692808200738259, 6555, 6720, 0.9754464285714286\n",
      "78 :  447 : 1.4696364679506846, 6551, 6720, 0.9748511904761905\n",
      "80 :  447 : 1.4688764520521675, 6555, 6720, 0.9754464285714286\n",
      "82 :  447 : 1.4684615622141532, 6540, 6720, 0.9732142857142857\n",
      "84 :  447 : 1.4690894625548805, 6538, 6720, 0.9729166666666667\n",
      "86 :  447 : 1.4684122167527676, 6553, 6720, 0.9751488095238096\n",
      "88 :  447 : 1.4687856805643864, 6551, 6720, 0.9748511904761905\n",
      "90 :  447 : 1.4683228701885258, 6563, 6720, 0.9766369047619048\n",
      "92 :  447 : 1.4684555272438697, 6557, 6720, 0.9757440476190476\n",
      "94 :  447 : 1.468018059751817, 6543, 6720, 0.9736607142857143\n",
      "96 :  447 : 1.4682337753474712, 6562, 6720, 0.9764880952380952\n",
      "98 :  447 : 1.468140959739685, 6542, 6720, 0.9735119047619047\n",
      "100 :  447 : 1.4671514452035939, 6555, 6720, 0.9754464285714286\n"
     ]
    }
   ],
   "source": [
    "class simple_CNN(nn.Module):\n",
    "    def __init__(self):\n",
    "        super(simple_CNN,self).__init__()\n",
    "        self.pool = nn.MaxPool2d((2,2))\n",
    "        self.conv1 = nn.Conv2d(in_channels=1, out_channels=10, kernel_size=5, stride=1)\n",
    "        self.conv2 = nn.Conv2d(in_channels=10, out_channels=20, kernel_size=4, stride=1)\n",
    "        self.conv3 = nn.Conv2d(in_channels=20, out_channels=40*2*2, kernel_size=2, stride=1)\n",
    "        \n",
    "        self.fc1 = nn.Linear(in_features=40*2*2,out_features=80)\n",
    "        self.fc2 = nn.Linear(in_features=80,out_features=10)\n",
    "                \n",
    "    def forward(self, x):\n",
    "        x = self.pool(F.leaky_relu(self.conv1(x)))\n",
    "        x = self.pool(F.leaky_relu(self.conv2(x)))\n",
    "        x = self.pool(F.leaky_relu(self.conv3(x)))\n",
    "        \n",
    "        x = x.view(-1,40*2*2)\n",
    "        \n",
    "        x = F.dropout(F.leaky_relu(self.fc1(x)),inplace=0.3)\n",
    "        x = self.fc2(x)\n",
    "        return F.softmax(x), x\n",
    "sim_cnn = simple_CNN().cuda()\n",
    "criteration = nn.CrossEntropyLoss()\n",
    "optimizer = optim.Adam(sim_cnn.parameters(), lr=0.0001)\n",
    "l = 60\n",
    "\n",
    "loss_list, socre_list = [], []\n",
    "for e in range(1,101):\n",
    "    lr = []\n",
    "    for i in range(448):\n",
    "        in_data, in_label = v_tr_x[(0+i)*l:(1+i)*l], v_tr_y[(0+i)*l:(1+i)*l]\n",
    "        #print(in_data.size())\n",
    "        optimizer.zero_grad()\n",
    "        out,_ = sim_cnn(in_data)\n",
    "        loss = criteration(out, in_label)\n",
    "        loss.backward()\n",
    "        \n",
    "        optimizer.step()\n",
    "        \n",
    "        lr += [loss.data.mean()]\n",
    "        \n",
    "    loss_list.append(loss.cpu().data.numpy()[0])\n",
    "    pred,_= sim_cnn(v_te_x)\n",
    "    res = torch.exp(pred).cpu().data.numpy()\n",
    "    score_list.append(sum(1 for i,j in zip(te_y,np.argmax(res,axis=1)) if i==j)/len(te_y))\n",
    "    if e%2 == 0:\n",
    "        pred,_ = sim_cnn(v_vali_x)\n",
    "        res = pred.max(1)[1].cpu().data.numpy()\n",
    "        print(\"{0:2d} : {1:4d} : {2}, {3}, {4}, {5}\".format(e,i,np.mean(lr),\\\n",
    "                sum(1 for i,j in zip(vali_y,res) if i==j),len(vali_y),sum(1 for i,j in zip(vali_y,res) if i==j)/len(vali_y)))"
   ]
  },
  {
   "cell_type": "code",
   "execution_count": 89,
   "metadata": {},
   "outputs": [
    {
     "name": "stdout",
     "output_type": "stream",
     "text": [
      "[[775   0   0   0   0   0   8   0   1   1]\n",
      " [  0 940   4   1   0   0   1   3   0   0]\n",
      " [  5   1 802   9   2   2   4  11   1   1]\n",
      " [  0   0   2 837   0   2   0   7   5   5]\n",
      " [  0   0   0   0 780   0   4   2   3   7]\n",
      " [  4   0   0   5   3 775   5   1   3   4]\n",
      " [  2   0   0   0   3   1 864   0   0   0]\n",
      " [  4   1   7   2   2   1   0 840   1   2]\n",
      " [  1   2   2   0   7   5   4   4 785   7]\n",
      " [  3   0   0   1   7   3   1   6   6 800]]\n"
     ]
    },
    {
     "data": {
      "text/plain": [
       "(8198, 8400, 0.9759523809523809)"
      ]
     },
     "execution_count": 89,
     "metadata": {},
     "output_type": "execute_result"
    }
   ],
   "source": [
    "pred,_ = sim_cnn(v_te_x)\n",
    "res = pred.max(1)[1].cpu().data.numpy()\n",
    "print(confusion_matrix(te_y,res))\n",
    "sum(1 for i,j in zip(te_y,res) if i==j),len(te_y),sum(1 for i,j in zip(te_y,res) if i==j)/len(te_y)"
   ]
  },
  {
   "cell_type": "code",
   "execution_count": 90,
   "metadata": {},
   "outputs": [
    {
     "data": {
      "text/plain": [
       "[<matplotlib.lines.Line2D at 0x7f7e324d2cc0>]"
      ]
     },
     "execution_count": 90,
     "metadata": {},
     "output_type": "execute_result"
    },
    {
     "data": {
      "image/png": "[encoded data removed]",
      "text/plain": [
       "<matplotlib.figure.Figure at 0x7f7e32529358>"
      ]
     },
     "metadata": {},
     "output_type": "display_data"
    }
   ],
   "source": [
    "plt.plot(loss_list)"
   ]
  },
  {
   "cell_type": "code",
   "execution_count": 91,
   "metadata": {},
   "outputs": [
    {
     "data": {
      "text/plain": [
       "[<matplotlib.lines.Line2D at 0x7f7e324a23c8>]"
      ]
     },
     "execution_count": 91,
     "metadata": {},
     "output_type": "execute_result"
    },
    {
     "data": {
      "image/png": "[encoded data removed]",
      "text/plain": [
       "<matplotlib.figure.Figure at 0x7f7e324d10f0>"
      ]
     },
     "metadata": {},
     "output_type": "display_data"
    }
   ],
   "source": [
    "plt.plot(score_list)"
   ]
  },
  {
   "cell_type": "markdown",
   "metadata": {
    "collapsed": true
   },
   "source": [
    "## 蒸留を行わない場合だと収束に揺れや段差が出る"
   ]
  },
  {
   "cell_type": "code",
   "execution_count": null,
   "metadata": {},
   "outputs": [],
   "source": []
  }
 ],
 "metadata": {
  "kernelspec": {
   "display_name": "Python 3",
   "language": "python",
   "name": "python3"
  },
  "language_info": {
   "codemirror_mode": {
    "name": "ipython",
    "version": 3
   },
   "file_extension": ".py",
   "mimetype": "text/x-python",
   "name": "python",
   "nbconvert_exporter": "python",
   "pygments_lexer": "ipython3",
   "version": "3.6.5"
  }
 },
 "nbformat": 4,
 "nbformat_minor": 2
}
